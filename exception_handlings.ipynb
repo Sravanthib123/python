{
  "nbformat": 4,
  "nbformat_minor": 0,
  "metadata": {
    "colab": {
      "provenance": [],
      "authorship_tag": "ABX9TyMU1UxwpNn4EGlluSvoD/il",
      "include_colab_link": true
    },
    "kernelspec": {
      "name": "python3",
      "display_name": "Python 3"
    },
    "language_info": {
      "name": "python"
    }
  },
  "cells": [
    {
      "cell_type": "markdown",
      "metadata": {
        "id": "view-in-github",
        "colab_type": "text"
      },
      "source": [
        "<a href=\"https://colab.research.google.com/github/Sravanthib123/python/blob/master/exception_handlings.ipynb\" target=\"_parent\"><img src=\"https://colab.research.google.com/assets/colab-badge.svg\" alt=\"Open In Colab\"/></a>"
      ]
    },
    {
      "cell_type": "code",
      "execution_count": null,
      "metadata": {
        "id": "pes_Qi3VT2tf"
      },
      "outputs": [],
      "source": [
        "#exception handlings(error handlings)\n",
        "# basic codes for try and except\n"
      ]
    },
    {
      "cell_type": "code",
      "metadata": {
        "colab": {
          "base_uri": "https://localhost:8080/"
        },
        "id": "835f8be5",
        "outputId": "afa60021-797b-4954-8015-29d340e9d8c1"
      },
      "source": [
        "# Example 1: Handling a ZeroDivisionError\n",
        "\n",
        "try:\n",
        "  result = 10 / 0 # This will raise a ZeroDivisionError\n",
        "except ZeroDivisionError:\n",
        "  print(\"Error: Cannot divide by zero!\")"
      ],
      "execution_count": null,
      "outputs": [
        {
          "output_type": "stream",
          "name": "stdout",
          "text": [
            "Error: Cannot divide by zero!\n"
          ]
        }
      ]
    },
    {
      "cell_type": "code",
      "metadata": {
        "colab": {
          "base_uri": "https://localhost:8080/"
        },
        "id": "4e545032",
        "outputId": "de0d596f-9d4b-4f5a-f224-9829a5f1336f"
      },
      "source": [
        "# Example 2: Handling a ValueError\n",
        "\n",
        "try:\n",
        "  number = int(\"abc\") # This will raise a ValueError\n",
        "  print(number)\n",
        "except ValueError:\n",
        "  print(\"Error: Invalid input. Please enter a valid integer.\")"
      ],
      "execution_count": null,
      "outputs": [
        {
          "output_type": "stream",
          "name": "stdout",
          "text": [
            "Error: Invalid input. Please enter a valid integer.\n"
          ]
        }
      ]
    },
    {
      "cell_type": "code",
      "metadata": {
        "colab": {
          "base_uri": "https://localhost:8080/"
        },
        "id": "afd95945",
        "outputId": "77468c66-9581-4854-9ab3-7da6cd69d9d1"
      },
      "source": [
        "# Example 3: Handling multiple exceptions\n",
        "\n",
        "try:\n",
        "  # code that might raise different exceptions\n",
        "  a = int(input(\"Enter a number: \"))\n",
        "  b = int(input(\"Enter another number: \"))\n",
        "  result = a/b\n",
        "  print(\"Result:\", result)\n",
        "except ValueError:\n",
        "  print(\"Error: Invalid input. Please enter valid numbers.\")\n",
        "except ZeroDivisionError:\n",
        "  print(\"Error: Cannot divide by zero!\")\n",
        "except Exception as e: # Catching any other exception\n",
        "  print(\"An unexpected error occurred:\", e)"
      ],
      "execution_count": null,
      "outputs": [
        {
          "output_type": "stream",
          "name": "stdout",
          "text": [
            "Enter a number: 10\n",
            "Enter another number: 0\n",
            "Error: Cannot divide by zero!\n"
          ]
        }
      ]
    },
    {
      "cell_type": "code",
      "source": [
        "try:\n",
        "  age=int(input(\"enter your age:\"))\n",
        "  if age<18:\n",
        "    raise ValueError;\n",
        "  else:\n",
        "    print(\"you can vote\")\n",
        "except ValueError:\n",
        "  print(\"you cannot vote\")"
      ],
      "metadata": {
        "colab": {
          "base_uri": "https://localhost:8080/"
        },
        "id": "8Rg3YHj5lbiS",
        "outputId": "fd93c701-e2fe-4fb7-87f2-fa5fe08e9922"
      },
      "execution_count": null,
      "outputs": [
        {
          "output_type": "stream",
          "name": "stdout",
          "text": [
            "enter your age:12\n",
            "you cannot vote\n"
          ]
        }
      ]
    },
    {
      "cell_type": "code",
      "source": [],
      "metadata": {
        "id": "YtIm39VGquh6"
      },
      "execution_count": null,
      "outputs": []
    }
  ]
}