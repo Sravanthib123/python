{
  "nbformat": 4,
  "nbformat_minor": 0,
  "metadata": {
    "colab": {
      "provenance": [],
      "authorship_tag": "ABX9TyM+ozgR5QATivzbxs6YepxT",
      "include_colab_link": true
    },
    "kernelspec": {
      "name": "python3",
      "display_name": "Python 3"
    },
    "language_info": {
      "name": "python"
    }
  },
  "cells": [
    {
      "cell_type": "markdown",
      "metadata": {
        "id": "view-in-github",
        "colab_type": "text"
      },
      "source": [
        "<a href=\"https://colab.research.google.com/github/Sravanthib123/python/blob/master/file.ipynb\" target=\"_parent\"><img src=\"https://colab.research.google.com/assets/colab-badge.svg\" alt=\"Open In Colab\"/></a>"
      ]
    },
    {
      "cell_type": "markdown",
      "source": [
        "**file handling**\n",
        "\n",
        "**file:**\n",
        "a file is a named location on your computer where data is stored permantently.it allows data to be saved,accessed,and managed outside the program.\n",
        "\n",
        "**file handling**\n",
        "file handling allows python programs to read,write,and modify files stored on disk,\n",
        "files are mainly of two types:\n",
        "text files(.txt)\n",
        "binary files(eg.,.bin)\n",
        "\n",
        "**modes** read  write  append  overwrite   file must exit\n",
        "\n",
        "r = read  yes    no     no      no           yes\n",
        "\n",
        "w = write no    yes     no      yes          no\n",
        "\n",
        "a = append no    yes    yes     no           no  \n",
        "\n",
        "r+ = read & write\n",
        "\n",
        "w+ = write & read\n",
        "\n",
        "a+ = append & read"
      ],
      "metadata": {
        "id": "04s4Us1pEVv_"
      }
    },
    {
      "cell_type": "code",
      "source": [
        "#read\n",
        "f=open(\"demo.txt\",\"r\")\n",
        "print(f.read())\n"
      ],
      "metadata": {
        "colab": {
          "base_uri": "https://localhost:8080/",
          "height": 176
        },
        "id": "1nrfwH2sHjrb",
        "outputId": "90685fce-7300-4bbc-e354-b260d7d71c13"
      },
      "execution_count": null,
      "outputs": [
        {
          "output_type": "error",
          "ename": "FileNotFoundError",
          "evalue": "[Errno 2] No such file or directory: 'demo.txt'",
          "traceback": [
            "\u001b[0;31m---------------------------------------------------------------------------\u001b[0m",
            "\u001b[0;31mFileNotFoundError\u001b[0m                         Traceback (most recent call last)",
            "\u001b[0;32m/tmp/ipython-input-2-694291701.py\u001b[0m in \u001b[0;36m<cell line: 0>\u001b[0;34m()\u001b[0m\n\u001b[1;32m      1\u001b[0m \u001b[0;31m#read\u001b[0m\u001b[0;34m\u001b[0m\u001b[0;34m\u001b[0m\u001b[0m\n\u001b[0;32m----> 2\u001b[0;31m \u001b[0mf\u001b[0m\u001b[0;34m=\u001b[0m\u001b[0mopen\u001b[0m\u001b[0;34m(\u001b[0m\u001b[0;34m\"demo.txt\"\u001b[0m\u001b[0;34m,\u001b[0m\u001b[0;34m\"r\"\u001b[0m\u001b[0;34m)\u001b[0m\u001b[0;34m\u001b[0m\u001b[0;34m\u001b[0m\u001b[0m\n\u001b[0m\u001b[1;32m      3\u001b[0m \u001b[0mprint\u001b[0m\u001b[0;34m(\u001b[0m\u001b[0mf\u001b[0m\u001b[0;34m.\u001b[0m\u001b[0mread\u001b[0m\u001b[0;34m(\u001b[0m\u001b[0;34m)\u001b[0m\u001b[0;34m)\u001b[0m\u001b[0;34m\u001b[0m\u001b[0;34m\u001b[0m\u001b[0m\n",
            "\u001b[0;31mFileNotFoundError\u001b[0m: [Errno 2] No such file or directory: 'demo.txt'"
          ]
        }
      ]
    },
    {
      "cell_type": "code",
      "source": [
        "#with open (\"demo.txt\",\"r\") as f:\n",
        "   # print(f.read())"
      ],
      "metadata": {
        "id": "Dmt_ozUdIF-h"
      },
      "execution_count": null,
      "outputs": []
    }
  ]
}