{
  "nbformat": 4,
  "nbformat_minor": 0,
  "metadata": {
    "colab": {
      "provenance": [],
      "authorship_tag": "ABX9TyPwcxfS1cc/27ewtzklCLxD",
      "include_colab_link": true
    },
    "kernelspec": {
      "name": "python3",
      "display_name": "Python 3"
    },
    "language_info": {
      "name": "python"
    }
  },
  "cells": [
    {
      "cell_type": "markdown",
      "metadata": {
        "id": "view-in-github",
        "colab_type": "text"
      },
      "source": [
        "<a href=\"https://colab.research.google.com/github/Sravanthib123/python/blob/master/python_codes.ipynb\" target=\"_parent\"><img src=\"https://colab.research.google.com/assets/colab-badge.svg\" alt=\"Open In Colab\"/></a>"
      ]
    },
    {
      "cell_type": "code",
      "execution_count": null,
      "metadata": {
        "colab": {
          "base_uri": "https://localhost:8080/"
        },
        "id": "NZwmTSZgPQYV",
        "outputId": "d3a3d006-d93b-490e-80dd-a20e540963f8"
      },
      "outputs": [
        {
          "output_type": "stream",
          "name": "stdout",
          "text": [
            "2\n",
            "5\n",
            "42\n"
          ]
        }
      ],
      "source": [
        "#sum of cubes\n",
        "m = int(input())\n",
        "n = int(input())\n",
        "total = 0\n",
        "for i in range(m, n+1):\n",
        "    total += i**3\n",
        "print(total)"
      ]
    },
    {
      "cell_type": "code",
      "source": [
        "#armstrong number\n",
        "n=int(input())\n",
        "digits = len(str(n))\n",
        "sum_of_digits = 0\n",
        "temp = n\n",
        "while temp > 0:\n",
        "    digit = temp % 10\n",
        "    sum_of_digits += digit ** digits\n",
        "    temp //= 10\n",
        "\n",
        "if n == sum_of_digits:\n",
        "    print(\"armstrong\")\n",
        "    print(sum_of_digits)\n",
        "else:\n",
        "    print(\"false\")"
      ],
      "metadata": {
        "colab": {
          "base_uri": "https://localhost:8080/"
        },
        "id": "PVIGsXxsTZp8",
        "outputId": "f990b95f-c378-4d5d-eb51-94f87bb4759e"
      },
      "execution_count": null,
      "outputs": [
        {
          "output_type": "stream",
          "name": "stdout",
          "text": [
            "153\n",
            "armstrong\n",
            "153\n"
          ]
        }
      ]
    },
    {
      "cell_type": "code",
      "source": [
        "# dictionary\n",
        "student_dict={\"ram\":\"cricket\",\"naresh\":\"football\",\"vani\":\"tennis\",\"rahim\":\"cricket\"}\n",
        "student_dict[\"ramesh\"] = \"cricket\"\n",
        "print(student_dict)"
      ],
      "metadata": {
        "colab": {
          "base_uri": "https://localhost:8080/"
        },
        "id": "tMyWk_sYYyse",
        "outputId": "7706d180-ced3-419e-de3c-44ee2b02949b"
      },
      "execution_count": null,
      "outputs": [
        {
          "output_type": "stream",
          "name": "stdout",
          "text": [
            "{'ram': 'cricket', 'naresh': 'football', 'vani': 'tennis', 'rahim': 'cricket', 'ramesh': 'cricket'}\n"
          ]
        }
      ]
    },
    {
      "cell_type": "code",
      "source": [
        "n = int(input())\n",
        "list =[ ]\n",
        "for i in range (n):\n",
        "  num = int(input())\n",
        "  list.append(num)\n",
        "print(list)"
      ],
      "metadata": {
        "colab": {
          "base_uri": "https://localhost:8080/"
        },
        "id": "Q9sBxLo6d3bj",
        "outputId": "eda1656e-d9ac-450a-8b0c-ed38b6ff6471"
      },
      "execution_count": null,
      "outputs": [
        {
          "output_type": "stream",
          "name": "stdout",
          "text": [
            "4\n",
            "1\n",
            "2\n",
            "4\n",
            "5\n",
            "[1, 2, 4, 5]\n"
          ]
        }
      ]
    },
    {
      "cell_type": "code",
      "source": [
        "n = input()\n",
        "for char in n[::-1]:\n",
        "    print(char)"
      ],
      "metadata": {
        "colab": {
          "base_uri": "https://localhost:8080/"
        },
        "id": "0vOP5y7ue81w",
        "outputId": "cc09caca-4391-4e83-add8-3b153c8691f6"
      },
      "execution_count": null,
      "outputs": [
        {
          "output_type": "stream",
          "name": "stdout",
          "text": [
            "swarna\n",
            "a\n",
            "n\n",
            "r\n",
            "a\n",
            "w\n",
            "s\n"
          ]
        }
      ]
    },
    {
      "cell_type": "code",
      "source": [
        "n=int(input())\n",
        "for i in range (0,n+1):\n",
        "  if i%2==0:\n",
        "    print(f\"{i} EVEN\")\n",
        "  else:\n",
        "    print(f\"{i} ODD\")"
      ],
      "metadata": {
        "colab": {
          "base_uri": "https://localhost:8080/"
        },
        "id": "TY4fc0bMg1PQ",
        "outputId": "b0619474-14eb-4be5-d085-701e844b412a"
      },
      "execution_count": null,
      "outputs": [
        {
          "output_type": "stream",
          "name": "stdout",
          "text": [
            "3\n",
            "0 EVEN\n",
            "1 ODD\n",
            "2 EVEN\n",
            "3 ODD\n"
          ]
        }
      ]
    },
    {
      "cell_type": "code",
      "source": [
        "#perfect squares\n",
        "a = int(input())\n",
        "b = int(input())\n",
        "count = 0\n",
        "for i in range(1,b+1):\n",
        "    if i*i >= a and i*i <= b:\n",
        "        count += 1\n",
        "print(count)\n",
        "\n"
      ],
      "metadata": {
        "colab": {
          "base_uri": "https://localhost:8080/"
        },
        "id": "YmWxIXLwju49",
        "outputId": "9db16244-d9ba-4d68-c94e-380775e3f400"
      },
      "execution_count": null,
      "outputs": [
        {
          "output_type": "stream",
          "name": "stdout",
          "text": [
            "1\n",
            "100\n",
            "10\n"
          ]
        }
      ]
    }
  ]
}