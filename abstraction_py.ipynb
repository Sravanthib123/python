{
  "nbformat": 4,
  "nbformat_minor": 0,
  "metadata": {
    "colab": {
      "provenance": [],
      "authorship_tag": "ABX9TyNe1nDxFDcvuchErBQmjALd",
      "include_colab_link": true
    },
    "kernelspec": {
      "name": "python3",
      "display_name": "Python 3"
    },
    "language_info": {
      "name": "python"
    }
  },
  "cells": [
    {
      "cell_type": "markdown",
      "metadata": {
        "id": "view-in-github",
        "colab_type": "text"
      },
      "source": [
        "<a href=\"https://colab.research.google.com/github/Sravanthib123/python/blob/master/abstraction_py.ipynb\" target=\"_parent\"><img src=\"https://colab.research.google.com/assets/colab-badge.svg\" alt=\"Open In Colab\"/></a>"
      ]
    },
    {
      "cell_type": "code",
      "execution_count": 6,
      "metadata": {
        "colab": {
          "base_uri": "https://localhost:8080/"
        },
        "id": "aahdhibTNexC",
        "outputId": "4915cfc9-6e05-4c56-9719-cca74ab7828f"
      },
      "outputs": [
        {
          "output_type": "stream",
          "name": "stdout",
          "text": [
            "Car started\n",
            "Car stopped\n",
            "bike speed\n",
            "bike cost\n"
          ]
        }
      ],
      "source": [
        "#Abstracting:main content display\n",
        "from abc import ABC, abstractmethod\n",
        "class vehicle(ABC):\n",
        "    @abstractmethod\n",
        "    def start(self):\n",
        "        pass\n",
        "    @abstractmethod\n",
        "    def stop(self):\n",
        "        pass\n",
        "    @abstractmethod\n",
        "    def speed(self):\n",
        "        pass\n",
        "    @abstractmethod\n",
        "    def cost(self):\n",
        "        pass\n",
        "class car(vehicle):\n",
        "    def start(self):\n",
        "        print(\"Car started\")\n",
        "    def stop(self):\n",
        "        print(\"Car stopped\")\n",
        "    def speed(self):\n",
        "        print(\" car speed\")\n",
        "    def cost(self):\n",
        "        print(\"car cost\")\n",
        "class bike(vehicle):\n",
        "    def start(self):\n",
        "        print(\"Bike started\")\n",
        "    def stop(self):\n",
        "        print(\"Bike stopped\")\n",
        "    def speed(self):\n",
        "        print(\"bike speed\")\n",
        "    def cost(self):\n",
        "        print(\"bike cost\")\n",
        "c=car()\n",
        "c.start()\n",
        "c.stop()\n",
        "b=bike()\n",
        "b.speed()\n",
        "b.cost()\n",
        "\n"
      ]
    },
    {
      "cell_type": "code",
      "source": [
        "from abc import ABC, abstractmethod\n",
        "class vehicle(ABC):\n",
        "    @abstractmethod\n",
        "    def start(self):\n",
        "        pass\n",
        "    @abstractmethod\n",
        "    def stop(self):\n",
        "        pass\n",
        "class car(vehicle):\n",
        "    def start(self):\n",
        "        print(\"Car started\")\n",
        "    def stop(self):\n",
        "        print(\"Car stopped\")\n",
        "class bike(vehicle):\n",
        "    def start(self):\n",
        "        print(\"Bike started\")\n",
        "    def stop(self):\n",
        "        print(\"Bike stopped\")\n",
        "c=car()\n",
        "c.start()\n",
        "c.stop()\n",
        "b=bike()\n",
        "b.start()\n",
        "b.stop()\n"
      ],
      "metadata": {
        "colab": {
          "base_uri": "https://localhost:8080/"
        },
        "id": "YRJwM4hyWRUD",
        "outputId": "5ff80125-426b-47e7-d429-bea3dde61f84"
      },
      "execution_count": 7,
      "outputs": [
        {
          "output_type": "stream",
          "name": "stdout",
          "text": [
            "Car started\n",
            "Car stopped\n",
            "Bike started\n",
            "Bike stopped\n"
          ]
        }
      ]
    },
    {
      "cell_type": "code",
      "source": [
        "# abstarct method:\n",
        "from abc import ABC, abstractmethod\n",
        "class animal(ABC):\n",
        "    @abstractmethod\n",
        "    def sound(self):\n",
        "        pass\n",
        "class dog(animal):\n",
        "    def sound(self):\n",
        "        return \"barks\"\n",
        "class cat(animal):\n",
        "    def sound(self):\n",
        "        return \"meows\"\n",
        "animals=[dog(),cat()]\n",
        "for a in animals:\n",
        "    print(a.sound())\n"
      ],
      "metadata": {
        "colab": {
          "base_uri": "https://localhost:8080/"
        },
        "id": "d5TH5sT8Y0bi",
        "outputId": "fa490759-e89f-4444-b1dd-80e64ffc4102"
      },
      "execution_count": 12,
      "outputs": [
        {
          "output_type": "stream",
          "name": "stdout",
          "text": [
            "barks\n",
            "meows\n"
          ]
        }
      ]
    },
    {
      "cell_type": "code",
      "source": [
        "from abc import ABC, abstractmethod\n",
        "class paymentgateway(ABC):\n",
        "    @abstractmethod\n",
        "    def pay(self,amount):\n",
        "        pass\n",
        "    @abstractmethod\n",
        "    def refund(self,amount):\n",
        "        pass\n",
        "class creditcardgateway(paymentgateway):\n",
        "        def pay(self,amount):\n",
        "            print(f\"paid {amount} using credit card\")\n",
        "        def refund(self,amount):\n",
        "          print(f\"refunded {amount} using credit card\")\n",
        "class upipaymentgateway(paymentgateway):\n",
        "    def pay(self,amount):\n",
        "        print(f\"paid {amount} using UPI\")\n",
        "    def refund(self,amount):\n",
        "        print(f\"refunded {amount} using UPI\")\n",
        "pay=creditcardgateway()\n",
        "pay.pay(3000)\n",
        "pay.refund(100)\n",
        "pay=upipaymentgateway()\n",
        "pay.pay(400)\n",
        "pay.refund(3)"
      ],
      "metadata": {
        "colab": {
          "base_uri": "https://localhost:8080/"
        },
        "id": "WH99dbGNbXSB",
        "outputId": "372df369-6fce-444d-de70-d9857067c0f6"
      },
      "execution_count": 24,
      "outputs": [
        {
          "output_type": "stream",
          "name": "stdout",
          "text": [
            "paid 3000 using credit card\n",
            "refunded 100 using credit card\n",
            "paid 400 using UPI\n",
            "refunded 3 using UPI\n"
          ]
        }
      ]
    },
    {
      "cell_type": "code",
      "source": [
        "from abc import ABC, abstractmethod\n",
        "class paymentgateway(ABC):\n",
        "    @abstractmethod\n",
        "    def pay(self,amount):\n",
        "        pass\n",
        "    @abstractmethod\n",
        "    def refund(self,amount):\n",
        "        pass\n",
        "class creditcardgateway(paymentgateway):\n",
        "        def pay(self,amount):\n",
        "            print(\"paid using credit card\")\n",
        "        def refund(self,amount):\n",
        "          print(\"refunded using credit card\")\n",
        "class upipaymentgateway(paymentgateway):\n",
        "    def pay(self,amount):\n",
        "        print(\"paid using UPI\")\n",
        "    def refund(self,amount):\n",
        "        print(\"refunded using UPI\")\n",
        "pay=[creditcardgateway(),upipaymentgateway()]\n",
        "for p in pay:\n",
        "    p.pay(100)\n",
        "    p.refund(50)"
      ],
      "metadata": {
        "colab": {
          "base_uri": "https://localhost:8080/"
        },
        "id": "7S7MdYvtiPk9",
        "outputId": "af650231-1c80-4b62-9940-35c7a3d3f78a"
      },
      "execution_count": 25,
      "outputs": [
        {
          "output_type": "stream",
          "name": "stdout",
          "text": [
            "paid using credit card\n",
            "refunded using credit card\n",
            "paid using UPI\n",
            "refunded using UPI\n"
          ]
        }
      ]
    }
  ]
}