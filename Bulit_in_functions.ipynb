{
  "nbformat": 4,
  "nbformat_minor": 0,
  "metadata": {
    "colab": {
      "provenance": [],
      "authorship_tag": "ABX9TyMgljdOLEf4FM+oV24eKGAK",
      "include_colab_link": true
    },
    "kernelspec": {
      "name": "python3",
      "display_name": "Python 3"
    },
    "language_info": {
      "name": "python"
    }
  },
  "cells": [
    {
      "cell_type": "markdown",
      "metadata": {
        "id": "view-in-github",
        "colab_type": "text"
      },
      "source": [
        "<a href=\"https://colab.research.google.com/github/Sravanthib123/python/blob/master/Bulit_in_functions.ipynb\" target=\"_parent\"><img src=\"https://colab.research.google.com/assets/colab-badge.svg\" alt=\"Open In Colab\"/></a>"
      ]
    },
    {
      "cell_type": "code",
      "execution_count": 16,
      "metadata": {
        "colab": {
          "base_uri": "https://localhost:8080/"
        },
        "id": "vThLvAxEOxVf",
        "outputId": "440d9086-5e6a-44af-c2d2-1e85a820994b"
      },
      "outputs": [
        {
          "output_type": "stream",
          "name": "stdout",
          "text": [
            "4.0\n",
            "120\n",
            "9\n",
            "4\n",
            "3\n",
            "3\n",
            "3\n",
            "-8\n",
            "1\n",
            "3.141592653589793\n",
            "2.718281828459045\n",
            "16.0\n",
            "2.302585092994046\n",
            "3.3219280948873626\n",
            "12\n",
            "2.0\n",
            "4.0\n",
            "1.0\n",
            "6.123233995736766e-17\n",
            "1.633123935319537e+16\n"
          ]
        }
      ],
      "source": [
        "#Bulit in functions for math:\n",
        "import math\n",
        "print(math.sqrt(16))\n",
        "print(math.factorial(5))\n",
        "print(math.ceil(8.2))\n",
        "print(math.ceil(3.01))\n",
        "print(math.ceil(3.0))\n",
        "print(math.floor(3.0))\n",
        "print(math.floor(3.1))\n",
        "print(math.floor(-8.0))\n",
        "print(math.gcd(2,3,4))\n",
        "print(math.pi)\n",
        "print(math.e)\n",
        "print(math.pow(2,4))\n",
        "print(math.log(10))\n",
        "print(math.log(10,2))\n",
        "print(math.lcm(2,3,4))\n",
        "print(math.log10(100))\n",
        "print(math.log2(16))\n",
        "print(math.sin(math.pi/2))\n",
        "print(math.cos(math.pi/2))\n",
        "print(math.tan(math.pi/2))\n",
        "\n",
        "\n"
      ]
    },
    {
      "cell_type": "code",
      "source": [
        "# bulit in functions for random:\n",
        "import random\n",
        "print(random.random())\n",
        "print(random.randint(1,10))\n",
        "print(random.randrange(1,10))\n",
        "print(random.uniform(1,10))\n",
        "print(random.choice([\"apple\",\"grapes\",\"mango\"]))\n",
        "fruits=[\"apple\",\"grapes\",\"mango\",\"papaya\",\"pineapple\",\"watermelon\"]\n",
        "random.shuffle(fruits)\n",
        "print(*fruits)\n",
        "print(random.sample(fruits,3))\n"
      ],
      "metadata": {
        "colab": {
          "base_uri": "https://localhost:8080/"
        },
        "id": "aZXWkiHVZG1K",
        "outputId": "1110959d-59dc-4333-997b-b95e7d71ad33"
      },
      "execution_count": 51,
      "outputs": [
        {
          "output_type": "stream",
          "name": "stdout",
          "text": [
            "0.10162333958914216\n",
            "5\n",
            "9\n",
            "6.731755043412279\n",
            "grapes\n",
            "mango grapes watermelon pineapple apple papaya\n",
            "['apple', 'pineapple', 'watermelon']\n"
          ]
        }
      ]
    },
    {
      "cell_type": "code",
      "source": [
        "#importing both math and random\n",
        "import math,random\n",
        "print(math.sqrt(16))\n",
        "print(math.factorial(5))\n",
        "print(math.ceil(8.2))\n",
        "print(math.ceil(3.01))\n",
        "print(math.ceil(3.0))\n",
        "print(math.floor(3.0))\n",
        "print(math.floor(3.1))\n",
        "print(math.floor(-8.0))\n",
        "print(math.gcd(2,3,4))\n",
        "print(math.pi)\n",
        "print(math.e)\n",
        "print(math.pow(2,4))\n",
        "print(math.log(10))\n",
        "print(math.log(10,2))\n",
        "print(math.lcm(2,3,4))\n",
        "print(math.log10(100))\n",
        "print(math.log2(16))\n",
        "print(math.sin(math.pi/2))\n",
        "print(math.cos(math.pi/2))\n",
        "print(math.tan(math.pi/2))\n",
        "print(random.random())\n",
        "print(random.randint(1,10))\n",
        "print(random.randrange(1,10))\n",
        "print(random.uniform(1,10))\n",
        "print(random.choice([\"apple\",\"grapes\",\"mango\"]))\n",
        "fruits=[\"apple\",\"grapes\",\"mango\",\"papaya\",\"pineapple\",\"watermelon\"]\n",
        "random.shuffle(fruits)\n",
        "print(*fruits)\n",
        "print(random.sample(fruits,3))\n",
        "\n",
        "\n"
      ],
      "metadata": {
        "colab": {
          "base_uri": "https://localhost:8080/"
        },
        "id": "WcJlGFEZdqA5",
        "outputId": "909eb207-871b-44a2-d020-652a40524e4b"
      },
      "execution_count": 59,
      "outputs": [
        {
          "output_type": "stream",
          "name": "stdout",
          "text": [
            "4.0\n",
            "120\n",
            "9\n",
            "4\n",
            "3\n",
            "3\n",
            "3\n",
            "-8\n",
            "1\n",
            "3.141592653589793\n",
            "2.718281828459045\n",
            "16.0\n",
            "2.302585092994046\n",
            "3.3219280948873626\n",
            "12\n",
            "2.0\n",
            "4.0\n",
            "1.0\n",
            "6.123233995736766e-17\n",
            "1.633123935319537e+16\n",
            "0.864478667530451\n",
            "10\n",
            "2\n",
            "3.715963325653558\n",
            "grapes\n",
            "papaya watermelon apple mango grapes pineapple\n",
            "['watermelon', 'grapes', 'apple']\n"
          ]
        }
      ]
    }
  ]
}