{
  "nbformat": 4,
  "nbformat_minor": 0,
  "metadata": {
    "colab": {
      "provenance": [],
      "authorship_tag": "ABX9TyPbaag+vRFMk4E4RwXsabn1",
      "include_colab_link": true
    },
    "kernelspec": {
      "name": "python3",
      "display_name": "Python 3"
    },
    "language_info": {
      "name": "python"
    }
  },
  "cells": [
    {
      "cell_type": "markdown",
      "metadata": {
        "id": "view-in-github",
        "colab_type": "text"
      },
      "source": [
        "<a href=\"https://colab.research.google.com/github/Sravanthib123/python/blob/master/tuples.ipynb\" target=\"_parent\"><img src=\"https://colab.research.google.com/assets/colab-badge.svg\" alt=\"Open In Colab\"/></a>"
      ]
    },
    {
      "cell_type": "code",
      "execution_count": null,
      "metadata": {
        "colab": {
          "base_uri": "https://localhost:8080/"
        },
        "id": "FcpBC23JgxY4",
        "outputId": "c0c7bb22-7d81-4e39-b8be-3770880d5e2d"
      },
      "outputs": [
        {
          "output_type": "stream",
          "name": "stdout",
          "text": [
            "(10, 20, 30)\n",
            "<class 'tuple'>\n",
            "6\n",
            "1\n",
            "2\n",
            "3\n",
            "(2, 3, 4)\n",
            "True\n",
            "(1, 2, 3, 4, 5, 6, 40, 50)\n",
            "(1, 2, 3, 4, 5, 6, 1, 2, 3, 4, 5, 6, 1, 2, 3, 4, 5, 6)\n",
            "False\n",
            "True\n"
          ]
        }
      ],
      "source": [
        "# a tuple is an ordered,immutable collection of items.once created,the elements of a tuple cannot be changed(unlike a list)\n",
        "t=(10,20,30)\n",
        "print(t)\n",
        "#tuple operations\n",
        "t=(1,2,3,4,5,6)\n",
        "print(type(t))\n",
        "print(len(t))\n",
        "print(t[2])\n",
        "print(t[1:4])\n",
        "print(1 in t)\n",
        "print(t+(40,50))\n",
        "print(10 in t)\n",
        "print(10 not in t)"
      ]
    },
    {
      "cell_type": "code",
      "source": [
        "#tuple methods\n",
        "#count(x):counts how many times x appears\n",
        "#index(x):returns the first index of value x\n",
        "t=(10,20,30,10,20)\n",
        "print(t.count(10))\n",
        "print(t.index(20))"
      ],
      "metadata": {
        "colab": {
          "base_uri": "https://localhost:8080/"
        },
        "id": "tydOm_LInE39",
        "outputId": "731c822d-b2ef-424e-ab68-274917a4b6c4"
      },
      "execution_count": null,
      "outputs": [
        {
          "output_type": "stream",
          "name": "stdout",
          "text": [
            "2\n",
            "1\n"
          ]
        }
      ]
    },
    {
      "cell_type": "code",
      "source": [
        "#task-3\n",
        "#what is a tuple in python\n",
        "#how do you create an empty tuple\n",
        "#how do you access the third elements of a tuple\n",
        "#what will len(5,10,15)return\n",
        "t=(5,10,15)\n",
        "print(t)\n",
        "t=()\n",
        "print(t)\n",
        "t=(10,20,30)\n",
        "print(t[2])\n",
        "print(len(t))\n",
        "t=(5,\"apple\",5.0,True)\n",
        "print(t)"
      ],
      "metadata": {
        "colab": {
          "base_uri": "https://localhost:8080/"
        },
        "id": "8--UpwHZnwfH",
        "outputId": "a380862d-8198-4660-d529-b4e321f9a532"
      },
      "execution_count": null,
      "outputs": [
        {
          "output_type": "stream",
          "name": "stdout",
          "text": [
            "(5, 10, 15)\n",
            "()\n",
            "30\n",
            "3\n",
            "(5, 'apple', 5.0, True)\n"
          ]
        }
      ]
    },
    {
      "cell_type": "code",
      "source": [
        "t=(1,2,(3,4))\n",
        "print(t[2][1])"
      ],
      "metadata": {
        "colab": {
          "base_uri": "https://localhost:8080/"
        },
        "id": "oAYsrSyotHyF",
        "outputId": "0f42cd41-cc81-426d-d4fe-4126e09aae8e"
      },
      "execution_count": null,
      "outputs": [
        {
          "output_type": "stream",
          "name": "stdout",
          "text": [
            "4\n"
          ]
        }
      ]
    },
    {
      "cell_type": "code",
      "source": [
        "a=(1,3)\n",
        "b=(4,2)\n",
        "print(a+b)"
      ],
      "metadata": {
        "colab": {
          "base_uri": "https://localhost:8080/"
        },
        "id": "xAQh2vBetxmq",
        "outputId": "62946d45-b6d7-49c3-a957-8075091983ba"
      },
      "execution_count": null,
      "outputs": [
        {
          "output_type": "stream",
          "name": "stdout",
          "text": [
            "(1, 3, 4, 2)\n"
          ]
        }
      ]
    },
    {
      "cell_type": "code",
      "source": [
        "x=[1,2,3]\n",
        "y=x[:]\n",
        "y[0]=100\n",
        "print(x)\n"
      ],
      "metadata": {
        "colab": {
          "base_uri": "https://localhost:8080/"
        },
        "id": "oaQnp47oFz8a",
        "outputId": "ac5d36ff-711b-4f80-a279-e2f6e7849920"
      },
      "execution_count": null,
      "outputs": [
        {
          "output_type": "stream",
          "name": "stdout",
          "text": [
            "[1, 2, 3]\n"
          ]
        }
      ]
    },
    {
      "cell_type": "code",
      "source": [
        "tuple('hello')"
      ],
      "metadata": {
        "colab": {
          "base_uri": "https://localhost:8080/"
        },
        "id": "3dASELbsGi7o",
        "outputId": "77592457-e2f7-40a5-e40f-15f6f3f9d6a3"
      },
      "execution_count": null,
      "outputs": [
        {
          "output_type": "execute_result",
          "data": {
            "text/plain": [
              "('h', 'e', 'l', 'l', 'o')"
            ]
          },
          "metadata": {},
          "execution_count": 6
        }
      ]
    },
    {
      "cell_type": "code",
      "source": [
        "list=[i for i in range (5)]\n",
        "list[2:4]=[10,11,12]\n",
        "print(list)"
      ],
      "metadata": {
        "colab": {
          "base_uri": "https://localhost:8080/"
        },
        "id": "UmLxmvB5HLCf",
        "outputId": "f34d58d5-3544-4395-a802-cdddd9744239"
      },
      "execution_count": null,
      "outputs": [
        {
          "output_type": "stream",
          "name": "stdout",
          "text": [
            "[0, 1, 10, 11, 12, 4]\n"
          ]
        }
      ]
    },
    {
      "cell_type": "code",
      "source": [
        "fruits=['apple','mango','grapes']\n",
        "print(tuple(fruits))"
      ],
      "metadata": {
        "colab": {
          "base_uri": "https://localhost:8080/"
        },
        "id": "P2n7ns7gN9xB",
        "outputId": "4d3ab489-2411-4c37-ef02-d254b00477fb"
      },
      "execution_count": null,
      "outputs": [
        {
          "output_type": "stream",
          "name": "stdout",
          "text": [
            "('apple', 'mango', 'grapes')\n"
          ]
        }
      ]
    },
    {
      "cell_type": "code",
      "source": [
        "#task-4\n",
        "t=(1,2,2,3,4,5,6,72,1,3,2)\n",
        "print(set(t))"
      ],
      "metadata": {
        "colab": {
          "base_uri": "https://localhost:8080/"
        },
        "id": "ikQgZlArPJzx",
        "outputId": "655a3e8f-bac5-410d-ad63-74c4785184f0"
      },
      "execution_count": null,
      "outputs": [
        {
          "output_type": "stream",
          "name": "stdout",
          "text": [
            "{1, 2, 3, 4, 5, 6, 72}\n"
          ]
        }
      ]
    },
    {
      "cell_type": "code",
      "source": [
        "#tuple of squares\n",
        "t=(1,2,3,4,5)\n",
        "print(tuple(i**2 for i in t))"
      ],
      "metadata": {
        "colab": {
          "base_uri": "https://localhost:8080/"
        },
        "id": "4gUfnTisPfOU",
        "outputId": "a082d72e-1e13-453d-9b45-7e66e5aa5f5f"
      },
      "execution_count": null,
      "outputs": [
        {
          "output_type": "stream",
          "name": "stdout",
          "text": [
            "(1, 4, 9, 16, 25)\n"
          ]
        }
      ]
    },
    {
      "cell_type": "code",
      "source": [
        "#merge two tuples and sort\n",
        "t1=(1,2,3)\n",
        "t2=(6,5,4)\n",
        "t3=t1+t2\n",
        "print(tuple(sorted(t3)))"
      ],
      "metadata": {
        "colab": {
          "base_uri": "https://localhost:8080/"
        },
        "id": "988Fax6WQAGY",
        "outputId": "60b3185e-fb40-4a29-b863-896d98fd0200"
      },
      "execution_count": null,
      "outputs": [
        {
          "output_type": "stream",
          "name": "stdout",
          "text": [
            "(1, 2, 3, 4, 5, 6)\n"
          ]
        }
      ]
    },
    {
      "cell_type": "code",
      "source": [
        "#find the tuples which have all elements divisible by k from a list of tuples\n",
        "t=[(1,2,3),(4,5,6),(7,8,9),(10,11,12)]\n",
        "k=3\n",
        "for i in t:\n",
        "    if all(j%k==0 for j in i):\n",
        "        print(i)\n"
      ],
      "metadata": {
        "id": "WhNZL4v1n2dm"
      },
      "execution_count": null,
      "outputs": []
    },
    {
      "cell_type": "code",
      "source": [
        "#find the tuples which have all elements divisible by k from a list of tuples with user input\n",
        "t=[]"
      ],
      "metadata": {
        "id": "b-y0zDN2oq5g"
      },
      "execution_count": null,
      "outputs": []
    },
    {
      "cell_type": "code",
      "metadata": {
        "id": "3a8f9c8c"
      },
      "source": [
        "# Get user input for the list of tuples\n",
        "t_input = input(\"Enter a list of tuples (e.g., [(1,2,3),(4,5,6)]): \")\n",
        "# Safely evaluate the input string as a Python literal\n",
        "try:\n",
        "    t = eval(t_input)\n",
        "    if not isinstance(t, list) or not all(isinstance(item, tuple) for item in t):\n",
        "        print(\"Invalid input. Please enter a list of tuples.\")\n",
        "        t = [] # Reset t if input is invalid\n",
        "except:\n",
        "    print(\"Invalid input. Please enter a list of tuples.\")\n",
        "    t = [] # Reset t if input is invalid\n",
        "\n",
        "# Get user input for k\n",
        "try:\n",
        "    k = int(input(\"Enter an integer value for k: \"))\n",
        "except ValueError:\n",
        "    print(\"Invalid input. Please enter an integer for k.\")\n",
        "    k = None # Set k to None if input is invalid\n",
        "\n",
        "# Find and print tuples where all elements are divisible by k\n",
        "if t and k is not None:\n",
        "    print(f\"\\nTuples where all elements are divisible by {k}:\")\n",
        "    for i in t:\n",
        "        if all(j % k == 0 for j in i):\n",
        "            print(i)\n",
        "elif not t:\n",
        "    print(\"No tuples were entered.\")\n",
        "elif k is None:\n",
        "    print(\"Invalid value for k entered.\")"
      ],
      "execution_count": null,
      "outputs": []
    }
  ]
}