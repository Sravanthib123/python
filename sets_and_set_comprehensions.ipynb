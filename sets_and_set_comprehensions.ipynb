{
  "nbformat": 4,
  "nbformat_minor": 0,
  "metadata": {
    "colab": {
      "provenance": [],
      "authorship_tag": "ABX9TyPT3mdJ6GejZb/Ar8uHPkoY",
      "include_colab_link": true
    },
    "kernelspec": {
      "name": "python3",
      "display_name": "Python 3"
    },
    "language_info": {
      "name": "python"
    }
  },
  "cells": [
    {
      "cell_type": "markdown",
      "metadata": {
        "id": "view-in-github",
        "colab_type": "text"
      },
      "source": [
        "<a href=\"https://colab.research.google.com/github/Sravanthib123/python/blob/master/sets_and_set_comprehensions.ipynb\" target=\"_parent\"><img src=\"https://colab.research.google.com/assets/colab-badge.svg\" alt=\"Open In Colab\"/></a>"
      ]
    },
    {
      "cell_type": "code",
      "execution_count": null,
      "metadata": {
        "id": "OD2fg-lZHYkb"
      },
      "outputs": [],
      "source": [
        "# a set is an unordered collection of unique elements. eg: s={1,2,3,4}"
      ]
    },
    {
      "cell_type": "code",
      "source": [
        "# addding/removing:\n",
        "s={1,8,3,4}\n",
        "s.add(5)\n",
        "print(s)\n",
        "s.remove(3)\n",
        "print(s)\n",
        "s.pop()  #removes an arbitrary elements\n",
        "print(s)\n",
        "s.clear() #removes all the elements from set\n",
        "print(s)"
      ],
      "metadata": {
        "colab": {
          "base_uri": "https://localhost:8080/"
        },
        "id": "lq7oTgk7JE3o",
        "outputId": "6ab12923-2aeb-4ccc-c749-1d3077a4ad5b"
      },
      "execution_count": null,
      "outputs": [
        {
          "output_type": "stream",
          "name": "stdout",
          "text": [
            "{1, 3, 4, 5, 8}\n",
            "{1, 4, 5, 8}\n",
            "{4, 5, 8}\n",
            "set()\n"
          ]
        }
      ]
    },
    {
      "cell_type": "markdown",
      "source": [],
      "metadata": {
        "id": "PWmn1TVZaM01"
      }
    },
    {
      "cell_type": "code",
      "source": [
        "#conversion:\n",
        "list_to_set=set([1,2,3,4])\n",
        "print(list_to_set)\n",
        "tuple_to_set=set((1,2,3,4))\n",
        "print(tuple_to_set)"
      ],
      "metadata": {
        "colab": {
          "base_uri": "https://localhost:8080/"
        },
        "id": "eTb8HlGhJ-FF",
        "outputId": "5fdef168-acd4-4495-a266-0306dfee1e94"
      },
      "execution_count": null,
      "outputs": [
        {
          "output_type": "stream",
          "name": "stdout",
          "text": [
            "{1, 2, 3, 4}\n",
            "{1, 2, 3, 4}\n"
          ]
        }
      ]
    },
    {
      "cell_type": "code",
      "source": [
        "\n",
        "#set operations\n",
        "#Union                   syntax:\\\n",
        "#intersection            syntax:&\n",
        "#difference              syntax:a-b\n",
        "#symmetric diff          syntax:^\n",
        "#subset\n",
        "#superset"
      ],
      "metadata": {
        "id": "piw1cY7pL4DF"
      },
      "execution_count": null,
      "outputs": []
    },
    {
      "cell_type": "code",
      "source": [
        "#dictionaries(dict)\n",
        "#a dictionary is a collection of key-value pairs. eg: d = {'a':1,'b':2,'c':3}"
      ],
      "metadata": {
        "id": "2SyGuc_fMz7H"
      },
      "execution_count": null,
      "outputs": []
    },
    {
      "cell_type": "code",
      "source": [
        "#accessing values\n",
        "dict={'a':1,'b':2,'c':3}\n",
        "print(dict.get(\"d\"))\n",
        "dict['a']\n",
        "#adding/updating:\n",
        "dict['d']=4\n",
        "print(dict)\n",
        "dict['a']=5\n",
        "print(dict)\n",
        "#deleting:\n",
        "del dict['a']\n",
        "print(dict)\n"
      ],
      "metadata": {
        "colab": {
          "base_uri": "https://localhost:8080/"
        },
        "id": "URCRMekNOEeH",
        "outputId": "c85e43b5-72d9-4f01-c59f-80ae0c2ec756"
      },
      "execution_count": null,
      "outputs": [
        {
          "output_type": "stream",
          "name": "stdout",
          "text": [
            "None\n",
            "{'a': 1, 'b': 2, 'c': 3, 'd': 4}\n",
            "{'a': 5, 'b': 2, 'c': 3, 'd': 4}\n",
            "{'b': 2, 'c': 3, 'd': 4}\n"
          ]
        }
      ]
    },
    {
      "cell_type": "code",
      "source": [
        "# list comprehension is a concise way to create lists using a line of code.it replaces traditional loops and append() method.\n",
        "#syntax:[expression for item in iterable if condition]"
      ],
      "metadata": {
        "id": "YxIRkxN9Sb39"
      },
      "execution_count": null,
      "outputs": []
    },
    {
      "cell_type": "code",
      "source": [
        "#square with user input\n",
        "n=list(map(int,input().split()))\n",
        "squares=[x**2 for x in n]\n",
        "print(squares)\n",
        "#square\n",
        "squares=[x**2 for x in range(1,11)]\n",
        "print(squares)"
      ],
      "metadata": {
        "colab": {
          "base_uri": "https://localhost:8080/"
        },
        "id": "976RQYVrTmco",
        "outputId": "52766acc-2b36-40d7-a61e-abf359933986"
      },
      "execution_count": null,
      "outputs": [
        {
          "output_type": "stream",
          "name": "stdout",
          "text": [
            "1 2 3 4 5\n",
            "[1, 4, 9, 16, 25]\n",
            "[1, 4, 9, 16, 25, 36, 49, 64, 81, 100]\n"
          ]
        }
      ]
    },
    {
      "cell_type": "code",
      "source": [
        "# squares of even numbers\n",
        "n=list(map(int,input().split()))\n",
        "squares=[x**2 for x in n if x%2==0]\n",
        "print(squares)"
      ],
      "metadata": {
        "colab": {
          "base_uri": "https://localhost:8080/"
        },
        "id": "TUhqkt05lHxh",
        "outputId": "e8b15348-53fa-477c-eb0c-ac6fda8715a2"
      },
      "execution_count": null,
      "outputs": [
        {
          "output_type": "stream",
          "name": "stdout",
          "text": [
            "1 2 3 4 5 6\n",
            "[4, 16, 36]\n"
          ]
        }
      ]
    },
    {
      "cell_type": "code",
      "source": [
        "#fliter positive numbers\n",
        "n=list(map(int,input().split()))\n",
        "positive=[x for x in n if x>0]\n",
        "print(positive)"
      ],
      "metadata": {
        "id": "CnxUaLBenLeA"
      },
      "execution_count": null,
      "outputs": []
    },
    {
      "cell_type": "code",
      "source": [
        "# print only even numbers\n",
        "#static\n",
        "even=[x for x in range(10) if x%2==0]\n",
        "print(even)\n",
        "#user input()\n",
        "n=list(map(int,input().split()))\n",
        "even=[x for x in n if x%2==0]\n",
        "print(even)"
      ],
      "metadata": {
        "colab": {
          "base_uri": "https://localhost:8080/"
        },
        "id": "2OHK47eQWq_j",
        "outputId": "24437323-da98-4f88-86d1-04cc47ead131"
      },
      "execution_count": null,
      "outputs": [
        {
          "output_type": "stream",
          "name": "stdout",
          "text": [
            "[0, 2, 4, 6, 8]\n",
            "1 2 3 4 5 6 7 8 9\n",
            "[2, 4, 6, 8]\n"
          ]
        }
      ]
    },
    {
      "cell_type": "code",
      "source": [
        "# print even or odd\n",
        "n=list(map(int,input().split()))\n",
        "even_odd=['even' if x%2==0 else 'odd' for x in n]\n",
        "print(even_odd)\n",
        "#static\n",
        "even_odd=['even' if x%2==0 else 'odd' for x in range(10)]\n",
        "print(even_odd)"
      ],
      "metadata": {
        "colab": {
          "base_uri": "https://localhost:8080/"
        },
        "id": "v8kkpKPFXnx2",
        "outputId": "19e156f1-abf4-40e3-f3c8-d9a821dd8f55"
      },
      "execution_count": null,
      "outputs": [
        {
          "output_type": "stream",
          "name": "stdout",
          "text": [
            "1 2 3 4 5 6 6\n",
            "['odd', 'even', 'odd', 'even', 'odd', 'even', 'even']\n",
            "['even', 'odd', 'even', 'odd', 'even', 'odd', 'even', 'odd', 'even', 'odd']\n"
          ]
        }
      ]
    },
    {
      "cell_type": "code",
      "source": [
        "#set comprehensions"
      ],
      "metadata": {
        "id": "BAtg2HjMmGL5"
      },
      "execution_count": null,
      "outputs": []
    },
    {
      "cell_type": "code",
      "source": [
        "#print squares\n",
        "n=list(map(int,input().split()))\n",
        "squares={x**2 for x in n}\n",
        "print(squares)\n",
        "#static\n",
        "squares={x**2 for x in range(1,11)}\n",
        "print(squares)"
      ],
      "metadata": {
        "colab": {
          "base_uri": "https://localhost:8080/"
        },
        "id": "oh4M8EDYmQUC",
        "outputId": "6d304277-3709-4045-a834-490f16501aaa"
      },
      "execution_count": null,
      "outputs": [
        {
          "output_type": "stream",
          "name": "stdout",
          "text": [
            "1 2 3 4 5\n",
            "{1, 4, 9, 16, 25}\n",
            "{64, 1, 4, 36, 100, 9, 16, 49, 81, 25}\n"
          ]
        }
      ]
    },
    {
      "cell_type": "code",
      "source": [
        "# squares of even numbers\n",
        "n=list(map(int,input().split()))\n",
        "squares={x**2 for x in n if x%2==0}\n",
        "print(squares)"
      ],
      "metadata": {
        "colab": {
          "base_uri": "https://localhost:8080/"
        },
        "id": "4NEObZV8kaXK",
        "outputId": "44fc91ca-4cda-45c8-ae55-6ce0ff8b92cd"
      },
      "execution_count": null,
      "outputs": [
        {
          "output_type": "stream",
          "name": "stdout",
          "text": [
            "1 2 3 4 5 6\n",
            "{16, 4, 36}\n"
          ]
        }
      ]
    }
  ]
}