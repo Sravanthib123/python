{
  "cells": [
    {
      "cell_type": "markdown",
      "metadata": {
        "id": "view-in-github",
        "colab_type": "text"
      },
      "source": [
        "<a href=\"https://colab.research.google.com/github/Sravanthib123/python/blob/master/python_basic.ipynb\" target=\"_parent\"><img src=\"https://colab.research.google.com/assets/colab-badge.svg\" alt=\"Open In Colab\"/></a>"
      ]
    },
    {
      "cell_type": "code",
      "execution_count": null,
      "metadata": {
        "colab": {
          "base_uri": "https://localhost:8080/"
        },
        "id": "gK6B-2ajTUBE",
        "outputId": "5695d669-e214-4dc4-9936-3d5f0c4b43ba"
      },
      "outputs": [
        {
          "name": "stdout",
          "output_type": "stream",
          "text": [
            "10\n",
            "sravanthi\n",
            "12.5\n",
            "<class 'int'>\n",
            "<class 'str'>\n",
            "<class 'float'>\n"
          ]
        }
      ],
      "source": [
        "a = 10\n",
        "b = 12.5\n",
        "name = \"sravanthi\"\n",
        "print(10)\n",
        "print(name)\n",
        "print(b)\n",
        "print(type(a))\n",
        "print(type(name))\n",
        "print(type(b))"
      ]
    },
    {
      "cell_type": "code",
      "execution_count": null,
      "metadata": {
        "colab": {
          "base_uri": "https://localhost:8080/"
        },
        "id": "8DQeOnw5UFAp",
        "outputId": "209e0da8-0fdb-4789-9a43-e939bb3202dc"
      },
      "outputs": [
        {
          "name": "stdout",
          "output_type": "stream",
          "text": [
            "{1, 2, 3, 4, 5, 6, 7, 8, 9}\n",
            "{1, 2, 3, 4, 5, 6, 7, 8, 9}\n",
            "<class 'set'>\n"
          ]
        }
      ],
      "source": [
        "num = {2,1,2,3,4,5,2,3,6,4,7,8,2,9}\n",
        "print(num)\n",
        "print(set(num))\n",
        "print(type(num))"
      ]
    },
    {
      "cell_type": "code",
      "execution_count": null,
      "metadata": {
        "colab": {
          "base_uri": "https://localhost:8080/"
        },
        "id": "Q1Z-RMiGVeDD",
        "outputId": "9cfdf6aa-8592-428c-9eb8-e5547c07d4ff"
      },
      "outputs": [
        {
          "name": "stdout",
          "output_type": "stream",
          "text": [
            "[1, 2, 'apple', 4, 5, 6, 7, 8]\n",
            "5\n",
            "[1, 2, 'apple', 12, 5, 6, 7, 8]\n"
          ]
        }
      ],
      "source": [
        "list = [1,2,\"apple\",4,5,6,7,8]\n",
        "print(list)\n",
        "print(list[4])\n",
        "list[3]=12\n",
        "print(list)\n"
      ]
    },
    {
      "cell_type": "code",
      "execution_count": null,
      "metadata": {
        "colab": {
          "base_uri": "https://localhost:8080/",
          "height": 228
        },
        "id": "vR7H_IGQWxWl",
        "outputId": "280af6c3-7f8d-4d5e-a2e4-89bf979b9779"
      },
      "outputs": [
        {
          "name": "stdout",
          "output_type": "stream",
          "text": [
            "(10, 20, 'kiet')\n",
            "kiet\n"
          ]
        },
        {
          "ename": "TypeError",
          "evalue": "'tuple' object does not support item assignment",
          "output_type": "error",
          "traceback": [
            "\u001b[0;31m---------------------------------------------------------------------------\u001b[0m",
            "\u001b[0;31mTypeError\u001b[0m                                 Traceback (most recent call last)",
            "\u001b[0;32m/tmp/ipython-input-15-1406460827.py\u001b[0m in \u001b[0;36m<cell line: 0>\u001b[0;34m()\u001b[0m\n\u001b[1;32m      2\u001b[0m \u001b[0mprint\u001b[0m\u001b[0;34m(\u001b[0m\u001b[0mtuple\u001b[0m\u001b[0;34m)\u001b[0m\u001b[0;34m\u001b[0m\u001b[0;34m\u001b[0m\u001b[0m\n\u001b[1;32m      3\u001b[0m \u001b[0mprint\u001b[0m\u001b[0;34m(\u001b[0m\u001b[0mtuple\u001b[0m\u001b[0;34m[\u001b[0m\u001b[0;36m2\u001b[0m\u001b[0;34m]\u001b[0m\u001b[0;34m)\u001b[0m\u001b[0;34m\u001b[0m\u001b[0;34m\u001b[0m\u001b[0m\n\u001b[0;32m----> 4\u001b[0;31m \u001b[0mtuple\u001b[0m\u001b[0;34m[\u001b[0m\u001b[0;36m2\u001b[0m\u001b[0;34m]\u001b[0m\u001b[0;34m=\u001b[0m\u001b[0;34m\"sravs\"\u001b[0m\u001b[0;34m\u001b[0m\u001b[0;34m\u001b[0m\u001b[0m\n\u001b[0m\u001b[1;32m      5\u001b[0m \u001b[0mprint\u001b[0m\u001b[0;34m(\u001b[0m\u001b[0mtuple\u001b[0m\u001b[0;34m)\u001b[0m\u001b[0;34m\u001b[0m\u001b[0;34m\u001b[0m\u001b[0m\n",
            "\u001b[0;31mTypeError\u001b[0m: 'tuple' object does not support item assignment"
          ]
        }
      ],
      "source": [
        "tuple =(10,20,\"kiet\")\n",
        "print(tuple)\n",
        "print(tuple[2])\n",
        "tuple[2]=\"sravs\"\n",
        "print(tuple)"
      ]
    },
    {
      "cell_type": "code",
      "execution_count": null,
      "metadata": {
        "colab": {
          "base_uri": "https://localhost:8080/"
        },
        "id": "5600Wz4qY5uo",
        "outputId": "b4d5b3ea-d202-4d32-b00e-c8c95dcc1db6"
      },
      "outputs": [
        {
          "name": "stdout",
          "output_type": "stream",
          "text": [
            "{1: 'sita', 2: 'adhi', 3: 'saamu'}\n",
            "{1: 'sita', 2: 'adhi', 3: 'saamu', 4: 'sravs'}\n",
            "{1: 'sita', 2: 'adhi', 3: 'saamu', 4: 'sravs', 'ramesh': 'cricket'}\n"
          ]
        }
      ],
      "source": [
        "dict ={1:'sita',2:'adhi',3:'saamu'}\n",
        "print(dict)\n",
        "dict[4]='sravs'#adding\n",
        "print(dict)\n",
        "dict[\"ramesh\"]=\"cricket\"\n",
        "print(dict)"
      ]
    },
    {
      "cell_type": "code",
      "execution_count": null,
      "metadata": {
        "colab": {
          "base_uri": "https://localhost:8080/"
        },
        "id": "fPLbdMSybjfF",
        "outputId": "c8672dba-1517-48b7-861e-26cd3488b4bb"
      },
      "outputs": [
        {
          "name": "stdout",
          "output_type": "stream",
          "text": [
            "enter the value of a=1\n",
            "enter the value of b=2\n",
            "enter your name:sravs\n",
            "hi sravs\n",
            "enter the value of a1\n",
            "enter the value of b2\n",
            "3\n",
            "enter two numbers separated by comma:1,2\n",
            "hello,world!\n",
            "hello*to*world\n",
            "loadind..."
          ]
        }
      ],
      "source": [
        "#inputs & outputs\n",
        "a = int(input(\"enter the value of a=\"))\n",
        "b = int(input(\"enter the value of b=\"))\n",
        "#eg-1:string input\n",
        "name = input(\"enter your name:\")\n",
        "print(\"hi\",name)\n",
        "\n",
        "\n",
        "# integer input\n",
        "a = int(input(\"enter the value of a\"))\n",
        "b = int(input(\"enter the value of b\"))\n",
        "print(a+b)\n",
        "\n",
        "\n",
        "# multiple inputs in one line\n",
        "x,y = input(\"enter two numbers separated by comma:\").split(\",\")\n",
        "\n",
        "\n",
        "\n",
        "\n",
        "#eg1 simple output\n",
        "print(\"hello,world!\")\n",
        "\n",
        "# using separate\n",
        "print(\"hello\",\"to\",\"world\",sep =\"*\")\n",
        "\n",
        "#using without newline\n",
        "print(\"loadind\",end=\"...\")"
      ]
    },
    {
      "cell_type": "code",
      "execution_count": null,
      "metadata": {
        "colab": {
          "base_uri": "https://localhost:8080/"
        },
        "id": "8p_wnK2pfPCD",
        "outputId": "82150be6-d731-4d7d-d273-4adebbee6abc"
      },
      "outputs": [
        {
          "name": "stdout",
          "output_type": "stream",
          "text": [
            "helllo\n"
          ]
        }
      ],
      "source": [
        "#comments\n",
        "'''\n",
        "rfffghkkjhgdereetuyuo\n",
        "hfhjlkghh\n",
        "ggjkjkk\n",
        "hj\n",
        "'''\n",
        "print(\"helllo\")"
      ]
    },
    {
      "cell_type": "code",
      "execution_count": null,
      "metadata": {
        "colab": {
          "base_uri": "https://localhost:8080/"
        },
        "id": "d2zvyVpQJu6C",
        "outputId": "683845d9-91df-4273-bea1-322d5d7a52a2"
      },
      "outputs": [
        {
          "name": "stdout",
          "output_type": "stream",
          "text": [
            "x is greater than 10\n"
          ]
        }
      ],
      "source": [
        "#if statements\n",
        "x = 10\n",
        "if x > 5:\n",
        "  print(\"x is greater than 10\")"
      ]
    },
    {
      "cell_type": "code",
      "execution_count": null,
      "metadata": {
        "colab": {
          "base_uri": "https://localhost:8080/"
        },
        "id": "ejdG7kvmKIeJ",
        "outputId": "8a02b55a-1253-461a-b594-33413684a292"
      },
      "outputs": [
        {
          "name": "stdout",
          "output_type": "stream",
          "text": [
            "enter a number:4\n",
            "positive number\n"
          ]
        }
      ],
      "source": [
        "#check whether number is postive\n",
        "num = int(input(\"enter a number:\"))\n",
        "if num > 0:\n",
        "  print(\"positive number\")"
      ]
    },
    {
      "cell_type": "code",
      "execution_count": null,
      "metadata": {
        "colab": {
          "base_uri": "https://localhost:8080/"
        },
        "id": "CUfNpO-2K8hP",
        "outputId": "080e8521-ea38-432f-c3be-4f7e0aec4201"
      },
      "outputs": [
        {
          "name": "stdout",
          "output_type": "stream",
          "text": [
            "enter a number:15\n",
            "divisible by 3 and 5\n"
          ]
        }
      ],
      "source": [
        "#check whether number is divisible by both 3 and 5\n",
        "num = int(input(\"enter a number:\"))\n",
        "if num % 3 == 0 and num % 5 == 0:\n",
        "\n",
        "  print(\"divisible by 3 and 5\")\n"
      ]
    },
    {
      "cell_type": "code",
      "execution_count": null,
      "metadata": {
        "colab": {
          "base_uri": "https://localhost:8080/"
        },
        "id": "gtCcqI2LL_N7",
        "outputId": "01966c3a-892d-4c77-ddb3-0a1c61536763"
      },
      "outputs": [
        {
          "name": "stdout",
          "output_type": "stream",
          "text": [
            "enter a number:12\n",
            "divisible by 2 and 3\n"
          ]
        }
      ],
      "source": [
        "#check whether number is divisible by both 2 and 3\n",
        "num = int(input(\"enter a number:\"))\n",
        "if num % 2 == 0 and num % 3 == 0:\n",
        "\n",
        "  print(\"divisible by 2 and 3\")\n"
      ]
    },
    {
      "cell_type": "code",
      "execution_count": null,
      "metadata": {
        "id": "vwyGOnLRNsX0"
      },
      "outputs": [],
      "source": [
        "# if-else statement\n",
        "num = int(input(\"enter a number:\"))\n",
        "if num > 0:\n",
        "  print(\"positive number\")\n",
        "else:\n",
        "  print(\"negative number\")\n"
      ]
    },
    {
      "cell_type": "code",
      "execution_count": null,
      "metadata": {
        "colab": {
          "base_uri": "https://localhost:8080/"
        },
        "id": "hZ9l8BxoOR59",
        "outputId": "a06858de-4e53-4b36-d0d8-5b6108a645d3"
      },
      "outputs": [
        {
          "name": "stdout",
          "output_type": "stream",
          "text": [
            "enter a number:5\n",
            "odd number\n"
          ]
        }
      ],
      "source": [
        "# check whether number is even and odd\n",
        "num = int(input(\"enter a number:\"))\n",
        "if num % 2 == 0:\n",
        "  print(\"even number\")\n",
        "else:\n",
        "  print(\"odd number\")\n"
      ]
    },
    {
      "cell_type": "code",
      "execution_count": null,
      "metadata": {
        "colab": {
          "base_uri": "https://localhost:8080/"
        },
        "id": "tbr41lYPPRrY",
        "outputId": "75f98c01-c027-4af0-8122-c3e5d63c1f31"
      },
      "outputs": [
        {
          "name": "stdout",
          "output_type": "stream",
          "text": [
            "enter your age:45\n",
            "eligiable to vote\n"
          ]
        }
      ],
      "source": [
        "#check if a person is eligiable to vote\n",
        "age = int(input(\"enter your age:\"))\n",
        "if age >= 18:\n",
        "  print(\"eligiable to vote\")\n",
        "else:\n",
        "  print(\"not eligiable to vote\")\n"
      ]
    },
    {
      "cell_type": "code",
      "execution_count": null,
      "metadata": {
        "colab": {
          "base_uri": "https://localhost:8080/"
        },
        "id": "pCKIuLXBPgKt",
        "outputId": "a8b6c642-eeb3-46b8-e9c7-cee6b5756ab1"
      },
      "outputs": [
        {
          "name": "stdout",
          "output_type": "stream",
          "text": [
            "enter a number:8\n",
            "enter a number:6\n",
            "8 is greater\n"
          ]
        }
      ],
      "source": [
        "# find the largest of two numbers\n",
        "a = int(input(\"enter a number:\"))\n",
        "b = int(input(\"enter a number:\"))\n",
        "if a > b:\n",
        "  print(a,\"is greater\")\n",
        "else:\n",
        "  print(b,\"is greater\")\n",
        "\n"
      ]
    },
    {
      "cell_type": "code",
      "execution_count": null,
      "metadata": {
        "colab": {
          "base_uri": "https://localhost:8080/"
        },
        "id": "a_eSW60UUImS",
        "outputId": "79b593c8-db6b-47d8-f749-072799734923"
      },
      "outputs": [
        {
          "name": "stdout",
          "output_type": "stream",
          "text": [
            "correct password\n"
          ]
        }
      ],
      "source": [
        "#find password is correct or nor\n",
        "password = \"sravanthi\"\n",
        "if password == \"sravanthi\":\n",
        "  print(\"correct password\")\n",
        "else:\n",
        "  print(\"incorrect password\")"
      ]
    },
    {
      "cell_type": "code",
      "execution_count": null,
      "metadata": {
        "colab": {
          "base_uri": "https://localhost:8080/"
        },
        "id": "qLBYJDymR6OD",
        "outputId": "01541ce7-accd-43ec-eb26-3a6662840feb"
      },
      "outputs": [
        {
          "name": "stdout",
          "output_type": "stream",
          "text": [
            "enter a year:2023\n",
            "not a leap year\n"
          ]
        }
      ],
      "source": [
        "#find the given number is leap year or not\n",
        "year = int(input(\"enter a year:\"))\n",
        "if year % 4 == 0 and year % 100!=0 or year % 400==0:\n",
        "  print(\"leap year\")\n",
        "else:\n",
        "\n",
        "  print(\"not a leap year\")"
      ]
    },
    {
      "cell_type": "code",
      "execution_count": null,
      "metadata": {
        "colab": {
          "base_uri": "https://localhost:8080/"
        },
        "id": "9qOp_OHATq_1",
        "outputId": "5bf6946b-1fdf-433d-d57f-6f71979a1a82"
      },
      "outputs": [
        {
          "name": "stdout",
          "output_type": "stream",
          "text": [
            "0\n",
            "1\n",
            "2\n",
            "3\n",
            "4\n"
          ]
        }
      ],
      "source": [
        "#for loop\n",
        "for i in range(5):\n",
        "  print(i)"
      ]
    },
    {
      "cell_type": "code",
      "execution_count": null,
      "metadata": {
        "colab": {
          "base_uri": "https://localhost:8080/"
        },
        "id": "ZXyDEmH_UKkK",
        "outputId": "8eadfe86-04fd-4340-b42f-0dfc96e5e201"
      },
      "outputs": [
        {
          "name": "stdout",
          "output_type": "stream",
          "text": [
            "0\n",
            "1\n",
            "2\n",
            "4\n",
            "5\n",
            "6\n",
            "7\n",
            "8\n",
            "9\n"
          ]
        }
      ],
      "source": [
        "for i in range(10):\n",
        "  if i == 3:\n",
        "    continue;\n",
        "  print(i)\n"
      ]
    },
    {
      "cell_type": "code",
      "execution_count": null,
      "metadata": {
        "colab": {
          "base_uri": "https://localhost:8080/"
        },
        "id": "6a_x25s_UuAE",
        "outputId": "66edbec2-b0f7-49bf-e631-84460bad27d9"
      },
      "outputs": [
        {
          "name": "stdout",
          "output_type": "stream",
          "text": [
            "0\n",
            "1\n",
            "2\n"
          ]
        }
      ],
      "source": [
        "for i in range(10):\n",
        "  if i == 3:\n",
        "    break;\n",
        "  print(i)"
      ]
    },
    {
      "cell_type": "code",
      "execution_count": null,
      "metadata": {
        "colab": {
          "base_uri": "https://localhost:8080/"
        },
        "id": "TpVJY7Y_XBqA",
        "outputId": "c13d7774-9eec-4474-824a-eb68f91bcb4d"
      },
      "outputs": [
        {
          "name": "stdout",
          "output_type": "stream",
          "text": [
            "sravs\n",
            "saamu\n",
            "sita\n",
            "adhi\n"
          ]
        }
      ],
      "source": [
        "list =['sravs','saamu','sita','adhi']\n",
        "for i in list:\n",
        "  print(i)"
      ]
    },
    {
      "cell_type": "code",
      "execution_count": null,
      "metadata": {
        "colab": {
          "base_uri": "https://localhost:8080/"
        },
        "id": "24LKFPlsXnZM",
        "outputId": "43c6846d-0f92-4e79-98ef-f282729f5516"
      },
      "outputs": [
        {
          "name": "stdout",
          "output_type": "stream",
          "text": [
            "2\n",
            "4\n",
            "6\n",
            "8\n"
          ]
        }
      ],
      "source": [
        "l=[1,2,3,4,5,6,7,8,9]\n",
        "for i in l:\n",
        "  if i%2==0:\n",
        "    print(i)"
      ]
    },
    {
      "cell_type": "code",
      "execution_count": null,
      "metadata": {
        "colab": {
          "base_uri": "https://localhost:8080/"
        },
        "id": "09PqlYeBY_k3",
        "outputId": "3c88f512-a8be-47be-9dfc-f51282f69f26"
      },
      "outputs": [
        {
          "name": "stdout",
          "output_type": "stream",
          "text": [
            "1\n",
            "3\n",
            "5\n",
            "7\n",
            "9\n"
          ]
        }
      ],
      "source": [
        "l=[1,2,3,4,5,6,7,8,9]\n",
        "for i in l:\n",
        "  if i%2!=0:\n",
        "    print(i)"
      ]
    },
    {
      "cell_type": "code",
      "execution_count": null,
      "metadata": {
        "colab": {
          "base_uri": "https://localhost:8080/"
        },
        "id": "fNPF3-YYaO_V",
        "outputId": "67ccb834-a19f-483c-deb3-9ca7e34f1bc2"
      },
      "outputs": [
        {
          "name": "stdout",
          "output_type": "stream",
          "text": [
            "0\n",
            "2\n",
            "4\n",
            "6\n",
            "8\n"
          ]
        }
      ],
      "source": [
        "for i in range(10):\n",
        "  if i%2==0:\n",
        "    print(i)"
      ]
    },
    {
      "cell_type": "code",
      "execution_count": null,
      "metadata": {
        "colab": {
          "base_uri": "https://localhost:8080/"
        },
        "id": "JHV7BoUiakhN",
        "outputId": "0809b601-47ec-427b-96bf-3cb0c2b43ac7"
      },
      "outputs": [
        {
          "name": "stdout",
          "output_type": "stream",
          "text": [
            "-1\n",
            "-2\n",
            "-3\n"
          ]
        }
      ],
      "source": [
        "l1=[1,-1,-2,4,5,-3,7,8]\n",
        "for i in l1:\n",
        "  if i<0:\n",
        "    print(i)"
      ]
    },
    {
      "cell_type": "code",
      "execution_count": null,
      "metadata": {
        "colab": {
          "base_uri": "https://localhost:8080/"
        },
        "id": "55ULthtleNY_",
        "outputId": "8a50d5a5-9e56-404c-aba7-84ae7b954af7"
      },
      "outputs": [
        {
          "name": "stdout",
          "output_type": "stream",
          "text": [
            "enter a number:3\n",
            "3 * 1 = 3\n",
            "3 * 2 = 6\n",
            "3 * 3 = 9\n",
            "3 * 4 = 12\n",
            "3 * 5 = 15\n",
            "3 * 6 = 18\n",
            "3 * 7 = 21\n",
            "3 * 8 = 24\n",
            "3 * 9 = 27\n",
            "3 * 10 = 30\n"
          ]
        }
      ],
      "source": [
        "n = int(input(\"enter a number:\"))\n",
        "for i in range(1,11):\n",
        "  print(n,\"*\",i,\"=\",n*i)"
      ]
    },
    {
      "cell_type": "code",
      "execution_count": null,
      "metadata": {
        "colab": {
          "base_uri": "https://localhost:8080/"
        },
        "id": "PqDftDFOevZp",
        "outputId": "79fcfc91-ca8a-4c11-c248-ca1c2b73ebf7"
      },
      "outputs": [
        {
          "name": "stdout",
          "output_type": "stream",
          "text": [
            "enter a number:5\n",
            "5*1=5\n",
            "5*2=10\n",
            "5*3=15\n",
            "5*4=20\n",
            "5*5=25\n",
            "5*6=30\n",
            "5*7=35\n",
            "5*8=40\n",
            "5*9=45\n",
            "5*10=50\n"
          ]
        }
      ],
      "source": [
        "n=int(input(\"enter a number:\"))\n",
        "for i in range(1,11):\n",
        "  print(f\"{n}*{i}={n*i}\")"
      ]
    },
    {
      "cell_type": "code",
      "execution_count": null,
      "metadata": {
        "colab": {
          "base_uri": "https://localhost:8080/"
        },
        "id": "KA5JMChffaCR",
        "outputId": "d4f57af5-ba6a-4d5c-df5f-a5f4b97a458e"
      },
      "outputs": [
        {
          "name": "stdout",
          "output_type": "stream",
          "text": [
            "1 2 3 4 5 6 7 8 9 10 \n",
            "2 4 6 8 10 12 14 16 18 20 \n",
            "3 6 9 12 15 18 21 24 27 30 \n",
            "4 8 12 16 20 24 28 32 36 40 \n",
            "5 10 15 20 25 30 35 40 45 50 \n",
            "6 12 18 24 30 36 42 48 54 60 \n",
            "7 14 21 28 35 42 49 56 63 70 \n",
            "8 16 24 32 40 48 56 64 72 80 \n",
            "9 18 27 36 45 54 63 72 81 90 \n",
            "10 20 30 40 50 60 70 80 90 100 \n"
          ]
        }
      ],
      "source": [
        "for i in range(1,11):\n",
        "  for j in range(1,11):\n",
        "    print(i*j,end=\" \")\n",
        "  print()"
      ]
    },
    {
      "cell_type": "code",
      "execution_count": null,
      "metadata": {
        "id": "zjjwGZFpnDmh"
      },
      "outputs": [],
      "source": [
        "#while loop\n",
        "count = 0\n",
        "while count<5:\n",
        "    if count == 2:\n",
        "        count += 1\n",
        "    continue\n",
        "    print(count)\n",
        "    count += 1\n",
        "\n"
      ]
    },
    {
      "cell_type": "code",
      "execution_count": null,
      "metadata": {
        "colab": {
          "base_uri": "https://localhost:8080/"
        },
        "id": "RLaM5gP3tNUC",
        "outputId": "428bc220-a14a-4749-bef7-9ea3e0b418d5"
      },
      "outputs": [
        {
          "name": "stdout",
          "output_type": "stream",
          "text": [
            "1\n",
            "2\n",
            "3\n",
            "4\n",
            "5\n",
            "6\n",
            "8\n",
            "9\n",
            "10\n"
          ]
        }
      ],
      "source": [
        "i =1\n",
        "while i<=10:\n",
        "    if i==7:\n",
        "        i += 1\n",
        "        continue\n",
        "    print(i)\n",
        "    i += 1"
      ]
    },
    {
      "cell_type": "code",
      "execution_count": null,
      "metadata": {
        "colab": {
          "base_uri": "https://localhost:8080/"
        },
        "id": "nEXteVMzdwmB",
        "outputId": "d350f949-cf59-4d05-c989-f51063b2e2f4"
      },
      "outputs": [
        {
          "name": "stdout",
          "output_type": "stream",
          "text": [
            "0\n",
            "1\n",
            "2\n",
            "3\n",
            "4\n"
          ]
        }
      ],
      "source": [
        "#range\n",
        "for i in range(5):\n",
        "  print(i)"
      ]
    },
    {
      "cell_type": "code",
      "execution_count": null,
      "metadata": {
        "colab": {
          "base_uri": "https://localhost:8080/"
        },
        "id": "WnPueESZeCxU",
        "outputId": "38adc52d-9d27-4d02-f4c2-48d43287374a"
      },
      "outputs": [
        {
          "name": "stdout",
          "output_type": "stream",
          "text": [
            "0\n",
            "1\n",
            "2\n",
            "3\n",
            "4\n",
            "5\n",
            "6\n",
            "7\n",
            "8\n",
            "9\n"
          ]
        }
      ],
      "source": [
        "for i in range(0,10):\n",
        "  print(i)"
      ]
    },
    {
      "cell_type": "code",
      "execution_count": null,
      "metadata": {
        "colab": {
          "base_uri": "https://localhost:8080/"
        },
        "id": "sG6_iPzmelWj",
        "outputId": "df4ad9b4-308b-4712-9a36-593841bc6269"
      },
      "outputs": [
        {
          "name": "stdout",
          "output_type": "stream",
          "text": [
            "1\n",
            "3\n",
            "5\n",
            "7\n",
            "9\n"
          ]
        }
      ],
      "source": [
        "for i in range(1,10,2):\n",
        "  print(i)\n"
      ]
    },
    {
      "cell_type": "code",
      "execution_count": null,
      "metadata": {
        "colab": {
          "base_uri": "https://localhost:8080/"
        },
        "id": "CfNSZvUjexn9",
        "outputId": "d288a0c7-871d-4c40-bd20-8a8e706cf09c"
      },
      "outputs": [
        {
          "name": "stdout",
          "output_type": "stream",
          "text": [
            "10\n",
            "2 4 6 8 10 "
          ]
        }
      ],
      "source": [
        "#using range print even or odd\n",
        "n=int(input())\n",
        "for i in range(2,n+1,2):\n",
        "  print(i,end=' ')"
      ]
    },
    {
      "cell_type": "code",
      "execution_count": null,
      "metadata": {
        "colab": {
          "base_uri": "https://localhost:8080/"
        },
        "id": "mKQCP9bOfzTY",
        "outputId": "fdbdf143-f80f-48d5-92ca-4118ef86b128"
      },
      "outputs": [
        {
          "name": "stdout",
          "output_type": "stream",
          "text": [
            "19\n",
            "1 3 5 7 9 11 13 15 17 19 "
          ]
        }
      ],
      "source": [
        "n=int(input())\n",
        "for i in range(1,n+1,2):\n",
        "  print(i,end=\" \")"
      ]
    },
    {
      "cell_type": "code",
      "execution_count": null,
      "metadata": {
        "colab": {
          "base_uri": "https://localhost:8080/"
        },
        "id": "aalYKlzNibOe",
        "outputId": "f1bd372a-764c-4c79-ebd2-08c78e9b7501"
      },
      "outputs": [
        {
          "name": "stdout",
          "output_type": "stream",
          "text": [
            "0\n",
            "1\n",
            "2\n",
            "3\n",
            "4\n"
          ]
        }
      ],
      "source": [
        "#break\n",
        "for i in range(10):\n",
        "  if i == 5:\n",
        "    break\n",
        "  print(i)"
      ]
    },
    {
      "cell_type": "code",
      "execution_count": null,
      "metadata": {
        "id": "DINNzhkOjY5D"
      },
      "outputs": [],
      "source": [
        "#continue\n",
        "for i in range([])"
      ]
    },
    {
      "cell_type": "code",
      "execution_count": null,
      "metadata": {
        "colab": {
          "base_uri": "https://localhost:8080/"
        },
        "id": "lNxSEyQfmLlg",
        "outputId": "9bf44fde-80d4-442c-a8d4-8564c6d6e109"
      },
      "outputs": [
        {
          "name": "stdout",
          "output_type": "stream",
          "text": [
            "exit\n",
            "hi\n"
          ]
        }
      ],
      "source": [
        "while True:\n",
        "  a=input()\n",
        "  if a==\"exit\":\n",
        "    break\n",
        "  print(a)\n",
        "print(\"hi\")"
      ]
    },
    {
      "cell_type": "code",
      "execution_count": null,
      "metadata": {
        "colab": {
          "base_uri": "https://localhost:8080/"
        },
        "id": "0FbJnAW7muwF",
        "outputId": "1fcac647-57d0-45a0-eab3-8fb1e0e4b8ba"
      },
      "outputs": [
        {
          "name": "stdout",
          "output_type": "stream",
          "text": [
            "4\n",
            "7\n",
            "0\n",
            "9\n"
          ]
        }
      ],
      "source": [
        "n=[4,-1,7,-3,0,9]\n",
        "for num in n:\n",
        "  if num<0:\n",
        "    continue\n",
        "  print(num)"
      ]
    },
    {
      "cell_type": "code",
      "execution_count": null,
      "metadata": {
        "colab": {
          "base_uri": "https://localhost:8080/"
        },
        "id": "ydSKt-DjuExW",
        "outputId": "abb715ec-f107-403e-c2ad-7df2445d648e"
      },
      "outputs": [
        {
          "name": "stdout",
          "output_type": "stream",
          "text": [
            "h\n",
            "e\n",
            "l\n",
            "l\n",
            "o\n"
          ]
        }
      ],
      "source": [
        "#stop printing characters on space\n",
        "text=\"hello world\"\n",
        "for char in text:\n",
        "  if char==\" \":\n",
        "    break\n",
        "  print(char)"
      ]
    },
    {
      "cell_type": "code",
      "execution_count": null,
      "metadata": {
        "colab": {
          "base_uri": "https://localhost:8080/"
        },
        "id": "c2Ok6SeFull4",
        "outputId": "777e8477-13cf-4749-c2db-eeca187a1675"
      },
      "outputs": [
        {
          "name": "stdout",
          "output_type": "stream",
          "text": [
            "d\n",
            "c\n",
            "t\n",
            "n\n"
          ]
        }
      ],
      "source": [
        "#skip vowels\n",
        "text=\"education\"\n",
        "vowels=\"aeiou\"\n",
        "for char in text:\n",
        "  if char in vowels:\n",
        "    continue\n",
        "  print(char)"
      ]
    },
    {
      "cell_type": "code",
      "execution_count": null,
      "metadata": {
        "colab": {
          "base_uri": "https://localhost:8080/"
        },
        "id": "DZ4GRZJRwZvM",
        "outputId": "20389c5f-8c57-4539-f3f1-6f056b0fd202"
      },
      "outputs": [
        {
          "name": "stdout",
          "output_type": "stream",
          "text": [
            "5\n",
            "10\n",
            "15\n",
            "20\n"
          ]
        }
      ],
      "source": [
        "#break on the first number>20\n",
        "n=[5,10,15,20,25]\n",
        "for num in n:\n",
        "  if num>20:\n",
        "      break\n",
        "  print(num)"
      ]
    },
    {
      "cell_type": "code",
      "execution_count": null,
      "metadata": {
        "colab": {
          "base_uri": "https://localhost:8080/"
        },
        "id": "aP-x-HVOxDDa",
        "outputId": "bddb6832-667f-4ac9-c5df-3fe7d7b39b4f"
      },
      "outputs": [
        {
          "name": "stdout",
          "output_type": "stream",
          "text": [
            "1\n",
            "3\n",
            "5\n",
            "7\n",
            "9\n",
            "11\n",
            "13\n",
            "15\n",
            "17\n",
            "19\n"
          ]
        }
      ],
      "source": [
        "#continue\n",
        "for i in range(1,21):\n",
        "  if i%2==0:\n",
        "    continue\n",
        "  print(i)"
      ]
    },
    {
      "cell_type": "code",
      "execution_count": null,
      "metadata": {
        "colab": {
          "background_save": true,
          "base_uri": "https://localhost:8080/"
        },
        "id": "jNN6KViHzJwt",
        "outputId": "84e84a5e-36ca-4f62-e283-a2ea41c46d71"
      },
      "outputs": [
        {
          "name": "stdout",
          "output_type": "stream",
          "text": [
            "1\n",
            "2\n",
            "3\n",
            "4\n",
            "5\n",
            "6\n",
            "7\n"
          ]
        }
      ],
      "source": [
        "#break in while loop\n",
        "i=1\n",
        "while True:  #loop to run indefinitely\n",
        "    if i == 8:\n",
        "      break\n",
        "    print(i)\n",
        "    i += 1"
      ]
    },
    {
      "cell_type": "code",
      "source": [
        "#continue in while loop\n",
        "i=0\n",
        "while i<10:\n",
        "  i += 1\n",
        "  if i == 3 or i == 6:\n",
        "    continue\n",
        "  print(i)"
      ],
      "metadata": {
        "colab": {
          "base_uri": "https://localhost:8080/"
        },
        "id": "MsGWlKnn0A_B",
        "outputId": "f4be4d53-f055-40b4-f0f4-5018dcff3008"
      },
      "execution_count": null,
      "outputs": [
        {
          "output_type": "stream",
          "name": "stdout",
          "text": [
            "1\n",
            "2\n",
            "4\n",
            "5\n",
            "7\n",
            "8\n",
            "9\n",
            "10\n"
          ]
        }
      ]
    },
    {
      "cell_type": "code",
      "source": [
        "n=[10,20,30,40,15,5,7]\n",
        "total = 0\n",
        "for num in n:\n",
        "  total += num\n",
        "  if total > 100:\n",
        "    break\n",
        "  print(\"sum:\",total)"
      ],
      "metadata": {
        "colab": {
          "base_uri": "https://localhost:8080/"
        },
        "id": "Mgv_9NXO1bq4",
        "outputId": "00251007-2868-4f38-f4c9-92213cd47f63"
      },
      "execution_count": null,
      "outputs": [
        {
          "output_type": "stream",
          "name": "stdout",
          "text": [
            "sum: 10\n",
            "sum: 30\n",
            "sum: 60\n",
            "sum: 100\n"
          ]
        }
      ]
    },
    {
      "cell_type": "code",
      "source": [
        "string =['bat','apple','banana','cat','dog']\n",
        "for word in string:\n",
        "  if word.startswith('b'):\n",
        "    continue\n",
        "  print(word)"
      ],
      "metadata": {
        "colab": {
          "base_uri": "https://localhost:8080/"
        },
        "id": "Qh2ubn632YZF",
        "outputId": "da969e91-e746-4af1-b5fd-1a9ee0fdbaa6"
      },
      "execution_count": null,
      "outputs": [
        {
          "output_type": "stream",
          "name": "stdout",
          "text": [
            "apple\n",
            "cat\n",
            "dog\n"
          ]
        }
      ]
    },
    {
      "cell_type": "code",
      "source": [
        "#nested loop with break\n",
        "for i in range(1,4):\n",
        "  for j in range(1,10):\n",
        "    if i*j >20:\n",
        "      break\n",
        "    print(f\"{i}*{j}={i*j}\")"
      ],
      "metadata": {
        "colab": {
          "base_uri": "https://localhost:8080/"
        },
        "id": "7bkQrY1y3aJq",
        "outputId": "13c4f41c-786f-40aa-cb13-18f68f0516b9"
      },
      "execution_count": null,
      "outputs": [
        {
          "output_type": "stream",
          "name": "stdout",
          "text": [
            "1*1=1\n",
            "1*2=2\n",
            "1*3=3\n",
            "1*4=4\n",
            "1*5=5\n",
            "1*6=6\n",
            "1*7=7\n",
            "1*8=8\n",
            "1*9=9\n",
            "2*1=2\n",
            "2*2=4\n",
            "2*3=6\n",
            "2*4=8\n",
            "2*5=10\n",
            "2*6=12\n",
            "2*7=14\n",
            "2*8=16\n",
            "2*9=18\n",
            "3*1=3\n",
            "3*2=6\n",
            "3*3=9\n",
            "3*4=12\n",
            "3*5=15\n",
            "3*6=18\n"
          ]
        }
      ]
    },
    {
      "cell_type": "code",
      "source": [
        "nums=[1,3,5,8,9]\n",
        "for num in nums:\n",
        "  if num%2==0:\n",
        "    print(\"first even:\",num)\n",
        "    break"
      ],
      "metadata": {
        "colab": {
          "base_uri": "https://localhost:8080/"
        },
        "id": "g0IWU2pJ4N6H",
        "outputId": "2bc14232-4da4-42a8-e3e9-ce7bd6991fcd"
      },
      "execution_count": null,
      "outputs": [
        {
          "output_type": "stream",
          "name": "stdout",
          "text": [
            "first even: 8\n"
          ]
        }
      ]
    },
    {
      "cell_type": "code",
      "source": [
        "#continue on divisible by 4 or 6\n",
        "for i in range(1,15):\n",
        "  if i%4==0 & i%6==0:\n",
        "    continue\n",
        "  print(i)"
      ],
      "metadata": {
        "colab": {
          "base_uri": "https://localhost:8080/"
        },
        "id": "DriPxD0j5a3Z",
        "outputId": "ec6c2dd0-20cf-45bf-afd8-75195400df6e"
      },
      "execution_count": null,
      "outputs": [
        {
          "output_type": "stream",
          "name": "stdout",
          "text": [
            "1\n",
            "2\n",
            "3\n",
            "5\n",
            "6\n",
            "7\n",
            "9\n",
            "10\n",
            "11\n",
            "13\n",
            "14\n"
          ]
        }
      ]
    },
    {
      "cell_type": "code",
      "source": [
        "text=\"abcdefghij\"\n",
        "for index,char in enumerate(text,1):\n",
        "    if index%3==0:\n",
        "      continue\n",
        "    print(char)"
      ],
      "metadata": {
        "colab": {
          "base_uri": "https://localhost:8080/"
        },
        "id": "cARiVmgd5_BQ",
        "outputId": "6a980c60-df6f-4445-d402-6c0b5aad295e"
      },
      "execution_count": null,
      "outputs": [
        {
          "output_type": "stream",
          "name": "stdout",
          "text": [
            "a\n",
            "b\n",
            "d\n",
            "e\n",
            "g\n",
            "h\n",
            "j\n"
          ]
        }
      ]
    },
    {
      "cell_type": "code",
      "source": [
        "#PATTERNS\n",
        "#left-handed triangle\n",
        "for i in range(1,6):     #1,2,3,4,5\n",
        "  print(\"*\"*i)           #i=1,i=2"
      ],
      "metadata": {
        "colab": {
          "base_uri": "https://localhost:8080/"
        },
        "id": "6R-kkoLgCL9_",
        "outputId": "ae6327f9-050c-4b34-d746-3f1f4af37d52"
      },
      "execution_count": null,
      "outputs": [
        {
          "output_type": "stream",
          "name": "stdout",
          "text": [
            "*\n",
            "**\n",
            "***\n",
            "****\n",
            "*****\n"
          ]
        }
      ]
    },
    {
      "cell_type": "code",
      "source": [
        "for i in range(5,0,-1):\n",
        "  print(\"*\"*i)"
      ],
      "metadata": {
        "colab": {
          "base_uri": "https://localhost:8080/"
        },
        "id": "DCWkbQqgC3rZ",
        "outputId": "4dfd0698-6557-41f3-bbd8-3b28ac5f5953"
      },
      "execution_count": null,
      "outputs": [
        {
          "output_type": "stream",
          "name": "stdout",
          "text": [
            "*****\n",
            "****\n",
            "***\n",
            "**\n",
            "*\n"
          ]
        }
      ]
    },
    {
      "cell_type": "code",
      "source": [
        "#right-handed triangle\n",
        "n=int(input())\n",
        "for i in range(1,n+1):\n",
        "  print(\"\"*(5-i)+\"*\"*i)"
      ],
      "metadata": {
        "colab": {
          "base_uri": "https://localhost:8080/"
        },
        "id": "9Zk8rA-2Fj6p",
        "outputId": "20a20ff3-d925-4ebf-9f23-0f000983443f"
      },
      "execution_count": null,
      "outputs": [
        {
          "output_type": "stream",
          "name": "stdout",
          "text": [
            "6\n",
            "* \n",
            "* * \n",
            "* * * \n",
            "* * * * \n",
            "* * * * * \n",
            "* * * * * * \n"
          ]
        }
      ]
    },
    {
      "cell_type": "code",
      "source": [
        "for i in range(1,6):\n",
        "  print(\"\"*(5-i)+\"*\"*i)"
      ],
      "metadata": {
        "colab": {
          "base_uri": "https://localhost:8080/"
        },
        "id": "gZ4kpXlSGXXT",
        "outputId": "a423f0d8-d00f-4e09-af88-2a20a33d8a41"
      },
      "execution_count": null,
      "outputs": [
        {
          "output_type": "stream",
          "name": "stdout",
          "text": [
            "*\n",
            "**\n",
            "***\n",
            "****\n",
            "*****\n"
          ]
        }
      ]
    },
    {
      "cell_type": "code",
      "source": [
        "for i in range(5,0,-1):\n",
        "  print(\" \"*(5-i)+\"*\"*i)"
      ],
      "metadata": {
        "colab": {
          "base_uri": "https://localhost:8080/"
        },
        "id": "M5PCgkkKGydq",
        "outputId": "87c80258-6f52-42cf-9589-2cfbae2dfa44"
      },
      "execution_count": null,
      "outputs": [
        {
          "output_type": "stream",
          "name": "stdout",
          "text": [
            "*****\n",
            " ****\n",
            "  ***\n",
            "   **\n",
            "    *\n"
          ]
        }
      ]
    },
    {
      "cell_type": "code",
      "source": [
        "n=int(input())\n",
        "for i in range(n,0,-1):\n",
        "  print(\" \"*(5-i)+\"*\"*i)"
      ],
      "metadata": {
        "colab": {
          "base_uri": "https://localhost:8080/"
        },
        "id": "XKLyCb_OHqta",
        "outputId": "edffc22e-40c0-4179-e454-a48237aee798"
      },
      "execution_count": null,
      "outputs": [
        {
          "output_type": "stream",
          "name": "stdout",
          "text": [
            "5\n",
            "*****\n",
            " ****\n",
            "  ***\n",
            "   **\n",
            "    *\n"
          ]
        }
      ]
    },
    {
      "cell_type": "code",
      "source": [
        "#pyramid\n",
        "for i in range(1,6):\n",
        "  print(\" \"*(5-i) +\"* \"*i)"
      ],
      "metadata": {
        "colab": {
          "base_uri": "https://localhost:8080/"
        },
        "id": "AN9OI1tBKIes",
        "outputId": "c8314d8f-176d-41ce-d824-4f19954ac82d"
      },
      "execution_count": null,
      "outputs": [
        {
          "output_type": "stream",
          "name": "stdout",
          "text": [
            "    * \n",
            "   * * \n",
            "  * * * \n",
            " * * * * \n",
            "* * * * * \n"
          ]
        }
      ]
    },
    {
      "cell_type": "code",
      "source": [
        "for i in range(5,0,-1):\n",
        "  print(\" \"*(5-i)+\"* \"*i)"
      ],
      "metadata": {
        "colab": {
          "base_uri": "https://localhost:8080/"
        },
        "id": "WLPUiP4vNuGu",
        "outputId": "78385295-9570-4e44-ed6e-6da76adc7456"
      },
      "execution_count": null,
      "outputs": [
        {
          "output_type": "stream",
          "name": "stdout",
          "text": [
            "* * * * * \n",
            " * * * * \n",
            "  * * * \n",
            "   * * \n",
            "    * \n"
          ]
        }
      ]
    },
    {
      "cell_type": "code",
      "source": [
        "#full square\n",
        "for i in range(1,6):\n",
        "  print(\"* \"*5)\n"
      ],
      "metadata": {
        "colab": {
          "base_uri": "https://localhost:8080/"
        },
        "id": "N1cBTG5SO-bm",
        "outputId": "4c8de9c0-8ae1-4c12-fd00-2715cec94890"
      },
      "execution_count": null,
      "outputs": [
        {
          "output_type": "stream",
          "name": "stdout",
          "text": [
            "* * * * * \n",
            "* * * * * \n",
            "* * * * * \n",
            "* * * * * \n",
            "* * * * * \n"
          ]
        }
      ]
    },
    {
      "cell_type": "code",
      "source": [
        "#hollow square\n",
        "for i in range(5):\n",
        "  for j in range(5):\n",
        "    if i==0 or i==4 or j==0 or j==4:\n",
        "      print(\"*\",end=\" \")\n",
        "    else:\n",
        "      print(\" \",end=\" \")\n",
        "  print()\n"
      ],
      "metadata": {
        "colab": {
          "base_uri": "https://localhost:8080/"
        },
        "id": "Vvvh7gk2SG_Z",
        "outputId": "982e70bf-2ecd-4a47-8f35-d09f3106e765"
      },
      "execution_count": null,
      "outputs": [
        {
          "output_type": "stream",
          "name": "stdout",
          "text": [
            "* * * * * \n",
            "*       * \n",
            "*       * \n",
            "*       * \n",
            "* * * * * \n"
          ]
        }
      ]
    },
    {
      "cell_type": "code",
      "source": [
        "#cross pattern\n",
        "n=5\n",
        "for i in range(n):\n",
        "  for j in range(n):\n",
        "    if i==j or j==n-i-1:\n",
        "      print(\"*\",end=\" \")\n",
        "    else:\n",
        "      print(\" \",end=' ')\n",
        "  print()"
      ],
      "metadata": {
        "colab": {
          "base_uri": "https://localhost:8080/"
        },
        "id": "0Dzw4__KUBNy",
        "outputId": "db823ba9-8546-4498-e0f1-bcda7b80fc8f"
      },
      "execution_count": null,
      "outputs": [
        {
          "output_type": "stream",
          "name": "stdout",
          "text": [
            "*       * \n",
            "  *   *   \n",
            "    *     \n",
            "  *   *   \n",
            "*       * \n"
          ]
        }
      ]
    },
    {
      "cell_type": "code",
      "source": [
        "#number triangle\n",
        "for i in range(1,6):\n",
        "  for j in range(1,i+1):\n",
        "    print(j,end=\"\")\n",
        "  print()"
      ],
      "metadata": {
        "colab": {
          "base_uri": "https://localhost:8080/"
        },
        "id": "UCY3gSAhVDGJ",
        "outputId": "86ef8954-569c-433b-8a01-00c2188c4542"
      },
      "execution_count": null,
      "outputs": [
        {
          "output_type": "stream",
          "name": "stdout",
          "text": [
            "1\n",
            "12\n",
            "123\n",
            "1234\n",
            "12345\n"
          ]
        }
      ]
    },
    {
      "cell_type": "code",
      "source": [
        "#Alphabet triangle\n",
        "for i in range(65,70):\n",
        "  for j in range(65,i+1):\n",
        "    print(chr(j),end=\"\")\n",
        "  print()"
      ],
      "metadata": {
        "colab": {
          "base_uri": "https://localhost:8080/"
        },
        "id": "aZoeWr6qXNjn",
        "outputId": "a0c5998f-410b-436e-c890-bea1feac2383"
      },
      "execution_count": null,
      "outputs": [
        {
          "output_type": "stream",
          "name": "stdout",
          "text": [
            "A\n",
            "AB\n",
            "ABC\n",
            "ABCD\n",
            "ABCDE\n"
          ]
        }
      ]
    },
    {
      "cell_type": "code",
      "source": [
        "#functions\n",
        "def Hi():\n",
        "  print(\"sravanthi\")\n",
        "Hi()\n"
      ],
      "metadata": {
        "colab": {
          "base_uri": "https://localhost:8080/"
        },
        "id": "ef2lny3zdA12",
        "outputId": "18fa63f1-09eb-4239-c4d3-24fce9c0a549"
      },
      "execution_count": null,
      "outputs": [
        {
          "output_type": "stream",
          "name": "stdout",
          "text": [
            "sravanthi\n"
          ]
        }
      ]
    },
    {
      "cell_type": "code",
      "source": [
        "#Using function\n",
        "def students():\n",
        "  return 80\n",
        "tol_stu=students()\n",
        "print(\"total students:\",tol_stu)\n",
        "#without function\n",
        "def students():\n",
        "  return 80\n",
        "tol_stu=students\n",
        "print(\"total students:\",80)"
      ],
      "metadata": {
        "colab": {
          "base_uri": "https://localhost:8080/"
        },
        "id": "7uqP7Zx3i3uM",
        "outputId": "9f853a4f-2d22-4ec1-8e25-786f97e4c095"
      },
      "execution_count": null,
      "outputs": [
        {
          "output_type": "stream",
          "name": "stdout",
          "text": [
            "total students: 80\n",
            "total students: 80\n"
          ]
        }
      ]
    },
    {
      "cell_type": "code",
      "source": [
        "def hi(a,b):\n",
        "  c=a+b\n",
        "  print(c)\n",
        "hi(3,4)"
      ],
      "metadata": {
        "colab": {
          "base_uri": "https://localhost:8080/"
        },
        "id": "M26-DHwjkPsp",
        "outputId": "5d8ab692-1e38-4f4c-e43e-46713c823427"
      },
      "execution_count": null,
      "outputs": [
        {
          "output_type": "stream",
          "name": "stdout",
          "text": [
            "7\n"
          ]
        }
      ]
    },
    {
      "cell_type": "code",
      "source": [
        "#positional arguments\n",
        "def Hi(name):\n",
        "  print(\"hello\",name)\n",
        "Hi(\"sravs\")"
      ],
      "metadata": {
        "colab": {
          "base_uri": "https://localhost:8080/"
        },
        "id": "u4Ky2VcplYDq",
        "outputId": "05866835-5735-43b3-a7b3-3582586488a5"
      },
      "execution_count": null,
      "outputs": [
        {
          "output_type": "stream",
          "name": "stdout",
          "text": [
            "hello sravs\n"
          ]
        }
      ]
    },
    {
      "cell_type": "code",
      "source": [
        "#default arguments\n",
        "def hi(name=\"sravs\"):\n",
        "  print(\"hello\",name)\n",
        "hi()\n",
        "hi(\"vyshu\")"
      ],
      "metadata": {
        "colab": {
          "base_uri": "https://localhost:8080/"
        },
        "id": "2kgWXgBhlYAe",
        "outputId": "424a6927-dcda-4ea2-eeaa-abcb42694c6c"
      },
      "execution_count": null,
      "outputs": [
        {
          "output_type": "stream",
          "name": "stdout",
          "text": [
            "hello sravs\n",
            "hello vyshu\n"
          ]
        }
      ]
    },
    {
      "cell_type": "code",
      "source": [
        "#keywords arguments\n",
        "def students(name,age):\n",
        "  print(\"name:\",name)\n",
        "  print(\"age:\",age)\n",
        "students(age=21,name=\"vijju\")"
      ],
      "metadata": {
        "colab": {
          "base_uri": "https://localhost:8080/"
        },
        "id": "METOpgywmvNv",
        "outputId": "9aa8c87b-f21a-4f94-c4fe-d3ca5294ae35"
      },
      "execution_count": null,
      "outputs": [
        {
          "output_type": "stream",
          "name": "stdout",
          "text": [
            "name: vijju\n",
            "age: 21\n"
          ]
        }
      ]
    },
    {
      "cell_type": "code",
      "source": [
        "#find the sum of even number using args"
      ],
      "metadata": {
        "id": "X30A8pqFaLqE"
      },
      "execution_count": null,
      "outputs": []
    },
    {
      "cell_type": "code",
      "source": [
        "#types of functions\n",
        "#1.no arguments,no return values\n",
        "def fun():\n",
        "  print(\"keep smiling\")\n",
        "fun()"
      ],
      "metadata": {
        "colab": {
          "base_uri": "https://localhost:8080/"
        },
        "id": "yR_M733vra8T",
        "outputId": "7f982c51-e381-4803-cdd0-4e2fba5aa145"
      },
      "execution_count": null,
      "outputs": [
        {
          "output_type": "stream",
          "name": "stdout",
          "text": [
            "keep smiling\n"
          ]
        }
      ]
    },
    {
      "cell_type": "code",
      "source": [
        "#2.arguments,no return values\n",
        "def fun(name):\n",
        "  print(\"hello\",name)\n",
        "fun(\"sravs\")"
      ],
      "metadata": {
        "colab": {
          "base_uri": "https://localhost:8080/"
        },
        "id": "2NOO4ioXr2WL",
        "outputId": "253ee8d9-8c6b-44de-cca9-10047b773564"
      },
      "execution_count": null,
      "outputs": [
        {
          "output_type": "stream",
          "name": "stdout",
          "text": [
            "hello sravs\n"
          ]
        }
      ]
    },
    {
      "cell_type": "code",
      "source": [
        "#3.no arguments, with return values\n",
        "def hi():\n",
        "  return \"friends\"\n",
        "  value=hi()\n",
        "  print(\"wishes\",value)\n",
        "\n"
      ],
      "metadata": {
        "id": "34Thb7dlsAvV"
      },
      "execution_count": null,
      "outputs": []
    },
    {
      "cell_type": "code",
      "source": [
        "#4.arguments,return values\n",
        "def fun(name):\n",
        "  return \"hello\",name\n",
        "print(fun(\"sravs\"))"
      ],
      "metadata": {
        "colab": {
          "base_uri": "https://localhost:8080/"
        },
        "id": "4HO7EZU1sbNE",
        "outputId": "f06751e5-d216-479b-e4b4-ca2cc784cd3e"
      },
      "execution_count": null,
      "outputs": [
        {
          "output_type": "stream",
          "name": "stdout",
          "text": [
            "('hello', 'sravs')\n"
          ]
        }
      ]
    },
    {
      "cell_type": "code",
      "source": [
        "#call by value\n",
        "def modify(x):\n",
        "  x=x+5\n",
        "  print(\"inside function:\",x)\n",
        "a=1\n",
        "modify(a)\n",
        "print(\"outside function:\",a)\n"
      ],
      "metadata": {
        "colab": {
          "base_uri": "https://localhost:8080/"
        },
        "id": "HFBzHcobWfDa",
        "outputId": "8af5c8ee-aa3f-4388-d861-41123a14697b"
      },
      "execution_count": null,
      "outputs": [
        {
          "output_type": "stream",
          "name": "stdout",
          "text": [
            "inside function: 6\n",
            "outside function: 1\n"
          ]
        }
      ]
    },
    {
      "cell_type": "code",
      "source": [
        "#call by reference\n",
        "def add_item(my_list):\n",
        "\n",
        "  my_list.append(99)\n",
        "  print(\"inside function:\",my_list)\n",
        "\n",
        "numbers=[1,2,3]\n",
        "add_item(numbers)\n",
        "print(\"outside function:\",numbers)\n"
      ],
      "metadata": {
        "colab": {
          "base_uri": "https://localhost:8080/"
        },
        "id": "be_9nFFoXi_V",
        "outputId": "dc7b3878-448f-4228-b312-f9eb720f6868"
      },
      "execution_count": null,
      "outputs": [
        {
          "output_type": "stream",
          "name": "stdout",
          "text": [
            "inside function: [1, 2, 3, 99]\n",
            "outside function: [1, 2, 3, 99]\n"
          ]
        }
      ]
    },
    {
      "cell_type": "code",
      "source": [
        "#lambda\n",
        "add=lambda x,y:x+y\n",
        "print(add(2,3))\n",
        "#lambda no arguments\n",
        "greet=lambda:print(\"hello\")\n",
        "greet()\n",
        "#lambda one arguments\n",
        "square=lambda x:x*x\n",
        "print(square(3))"
      ],
      "metadata": {
        "colab": {
          "base_uri": "https://localhost:8080/"
        },
        "id": "KyQHZy6rdlj8",
        "outputId": "481016a8-aa86-4d5f-bbe4-d163358d12fd"
      },
      "execution_count": null,
      "outputs": [
        {
          "output_type": "stream",
          "name": "stdout",
          "text": [
            "5\n",
            "hello\n",
            "9\n"
          ]
        }
      ]
    },
    {
      "cell_type": "code",
      "source": [
        "n=[1,2,3,4]\n",
        "square=list(map(lambda x:x*x,n))\n",
        "print(square)"
      ],
      "metadata": {
        "colab": {
          "base_uri": "https://localhost:8080/"
        },
        "id": "vqXiJ4u3d2ph",
        "outputId": "303b94ad-a709-425c-d89b-4604c0eefddb"
      },
      "execution_count": null,
      "outputs": [
        {
          "output_type": "stream",
          "name": "stdout",
          "text": [
            "[1, 4, 9, 16]\n"
          ]
        }
      ]
    },
    {
      "cell_type": "code",
      "source": [
        "names=['amala','archana','saamu']\n",
        "upper_names=list(map(lambda x:x.upper(),names))\n",
        "print(upper_names)"
      ],
      "metadata": {
        "colab": {
          "base_uri": "https://localhost:8080/"
        },
        "id": "PmkNSeLWfTxQ",
        "outputId": "dd0ebb9d-172b-4470-d93f-7df73f94a67f"
      },
      "execution_count": null,
      "outputs": [
        {
          "output_type": "stream",
          "name": "stdout",
          "text": [
            "['AMALA', 'ARCHANA', 'SAAMU']\n"
          ]
        }
      ]
    },
    {
      "cell_type": "code",
      "source": [
        "#multiples of 3 using lambda\n",
        "n=[1,2,3,4,5,6,7,8,9]\n",
        "multiples_of_3=list(filter(lambda x:x%3==0,n))\n",
        "print(*multiples_of_3)"
      ],
      "metadata": {
        "colab": {
          "base_uri": "https://localhost:8080/"
        },
        "id": "JiTyMsqZgpYq",
        "outputId": "110fe7fe-39d9-43ce-9721-08793f5d3e48"
      },
      "execution_count": null,
      "outputs": [
        {
          "output_type": "stream",
          "name": "stdout",
          "text": [
            "3 6 9\n"
          ]
        }
      ]
    },
    {
      "cell_type": "code",
      "source": [
        "#Scope\n",
        "#local variable\n",
        "def hi():\n",
        "  name=\"anu\"\n",
        "  print(\"hello\",name)\n",
        "\n",
        "hi()"
      ],
      "metadata": {
        "colab": {
          "base_uri": "https://localhost:8080/"
        },
        "id": "sfaBWGj5c8bs",
        "outputId": "04604592-6cae-4bb4-9e45-f4112699a5fb"
      },
      "execution_count": null,
      "outputs": [
        {
          "output_type": "stream",
          "name": "stdout",
          "text": [
            "hello anu\n"
          ]
        }
      ]
    },
    {
      "cell_type": "code",
      "source": [
        "#gobal variable\n",
        "name=\"sravs\"\n",
        "def hi():\n",
        "  print(\"hello\",name)\n",
        "hi()\n",
        "\n",
        "\n",
        "# enclosing variable\n",
        "def outer():\n",
        "  x=10\n",
        "  def inner():\n",
        "    nonlocal x\n",
        "    x+=5\n",
        "    print(\"inner:\",x)\n",
        "  inner()\n",
        "  print(\"outer:\",x)\n",
        "outer()\n",
        "\n",
        "#bulit_in scope\n",
        "x=[1,2,3,4,5]\n",
        "print(sum(x))\n",
        "print(max(x))\n",
        "print(min(x))\n",
        "print(len(x))\n"
      ],
      "metadata": {
        "colab": {
          "base_uri": "https://localhost:8080/"
        },
        "id": "K_zpLFuBeHKe",
        "outputId": "7d517b0e-39dd-4e0c-9d0f-c3fd576b6bcd"
      },
      "execution_count": null,
      "outputs": [
        {
          "output_type": "stream",
          "name": "stdout",
          "text": [
            "hello sravs\n",
            "inner: 15\n",
            "outer: 15\n",
            "15\n",
            "5\n",
            "1\n",
            "5\n"
          ]
        }
      ]
    },
    {
      "cell_type": "code",
      "source": [
        "def greet(*args):\n",
        "  for name in args:\n",
        "    print(\"hello\",name)\n",
        "greet(\"sravs\",\"saamu\",\"sita\")\n"
      ],
      "metadata": {
        "colab": {
          "base_uri": "https://localhost:8080/"
        },
        "id": "c2F-JAd0fCdg",
        "outputId": "df7d0cc1-ce7b-4bc0-a340-c9db3cbea0fa"
      },
      "execution_count": null,
      "outputs": [
        {
          "output_type": "stream",
          "name": "stdout",
          "text": [
            "hello sravs\n",
            "hello saamu\n",
            "hello sita\n"
          ]
        }
      ]
    },
    {
      "cell_type": "code",
      "source": [
        "def show(*args):\n",
        "  for i in args:\n",
        "    print(i)\n",
        "data=(1,2,3,4,5,6)\n",
        "show(*data)\n",
        "show(data)\n"
      ],
      "metadata": {
        "colab": {
          "base_uri": "https://localhost:8080/"
        },
        "id": "Mgpr1yUMlaC5",
        "outputId": "cfbdd50c-d6f6-43e5-831c-64416091deea"
      },
      "execution_count": null,
      "outputs": [
        {
          "output_type": "stream",
          "name": "stdout",
          "text": [
            "1\n",
            "2\n",
            "3\n",
            "4\n",
            "5\n",
            "6\n",
            "(1, 2, 3, 4, 5, 6)\n"
          ]
        }
      ]
    },
    {
      "cell_type": "code",
      "source": [
        "#kwargs\n",
        "def show(**kwargs):\n",
        "  print(kwargs)\n",
        "show(name=\"sravs\",age=21)"
      ],
      "metadata": {
        "colab": {
          "base_uri": "https://localhost:8080/"
        },
        "id": "h78L9yQnnK3g",
        "outputId": "fe142be3-6b27-499d-81de-f8e442e281b4"
      },
      "execution_count": null,
      "outputs": [
        {
          "output_type": "stream",
          "name": "stdout",
          "text": [
            "{'name': 'sravs', 'age': 21}\n"
          ]
        }
      ]
    },
    {
      "cell_type": "code",
      "source": [
        "#recursion\n",
        "#recursion is a technique where a function call itself to solve smaller instances of the same problem.\n",
        "#def function_name():\n",
        "# base condition to stop recursion\n",
        "     #recursive call(with a smaller/simpler input)\n",
        "def x(n):\n",
        "  if n==0:\n",
        "    print(\"hello off!\")\n",
        "    return\n",
        "  print(n)\n",
        "  x(n-1)\n",
        "x(5)\n"
      ],
      "metadata": {
        "colab": {
          "base_uri": "https://localhost:8080/"
        },
        "id": "mvetx6m5py4F",
        "outputId": "94d092d1-1370-45fc-a79f-a9942f426f69"
      },
      "execution_count": null,
      "outputs": [
        {
          "output_type": "stream",
          "name": "stdout",
          "text": [
            "5\n",
            "4\n",
            "3\n",
            "2\n",
            "1\n",
            "hello off!\n"
          ]
        }
      ]
    },
    {
      "cell_type": "code",
      "source": [
        "#factorial\n",
        "def factorial(n):\n",
        "  if n<1:\n",
        "    return 1\n",
        "  return n*factorial(n-1)\n",
        "print(factorial(6))\n"
      ],
      "metadata": {
        "colab": {
          "base_uri": "https://localhost:8080/"
        },
        "id": "6aeoqb-ks0XN",
        "outputId": "5330ee37-4fe8-4471-c391-01a6d558c223"
      },
      "execution_count": null,
      "outputs": [
        {
          "output_type": "stream",
          "name": "stdout",
          "text": [
            "720\n"
          ]
        }
      ]
    },
    {
      "cell_type": "code",
      "source": [
        "#count the digits of a number\n",
        "#input:456\n",
        "#output:3\n",
        "def count_digits(n):\n",
        "  if n<10:\n",
        "    return 1\n",
        "  return 1+count_digits(n//10)\n",
        "print(count_digits(456))\n"
      ],
      "metadata": {
        "id": "ePTAd955BIeY"
      },
      "execution_count": null,
      "outputs": []
    },
    {
      "cell_type": "code",
      "source": [
        "#differenceofsum\n",
        "\n"
      ],
      "metadata": {
        "id": "raFS5q_ECGYG"
      },
      "execution_count": null,
      "outputs": []
    }
  ],
  "metadata": {
    "colab": {
      "provenance": [],
      "authorship_tag": "ABX9TyNKk0Tp3WUdAoghSU/8d2Gx",
      "include_colab_link": true
    },
    "kernelspec": {
      "display_name": "Python 3",
      "name": "python3"
    },
    "language_info": {
      "name": "python"
    }
  },
  "nbformat": 4,
  "nbformat_minor": 0
}