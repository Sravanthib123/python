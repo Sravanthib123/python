{
  "nbformat": 4,
  "nbformat_minor": 0,
  "metadata": {
    "colab": {
      "provenance": [],
      "authorship_tag": "ABX9TyPndPuy0KiYfiyqgbOBJN1X",
      "include_colab_link": true
    },
    "kernelspec": {
      "name": "python3",
      "display_name": "Python 3"
    },
    "language_info": {
      "name": "python"
    }
  },
  "cells": [
    {
      "cell_type": "markdown",
      "metadata": {
        "id": "view-in-github",
        "colab_type": "text"
      },
      "source": [
        "<a href=\"https://colab.research.google.com/github/Sravanthib123/python/blob/master/regular_expresses_py.ipynb\" target=\"_parent\"><img src=\"https://colab.research.google.com/assets/colab-badge.svg\" alt=\"Open In Colab\"/></a>"
      ]
    },
    {
      "cell_type": "markdown",
      "source": [
        "**meta characters in regular expresses**\n",
        "\n",
        "[]:-it represents characters\n",
        "\n",
        "\\ :-it uses for special sequence.\n",
        "\n",
        ". :- it signals that any character\n",
        "\n",
        "^ :-it represents the pattern at beginning of the str\n",
        "\n",
        "$ :- it represents the pattern at end of the str\n",
        "\n",
        "*:-it represents zero or more occurrence of a pattern in the str\n",
        "\n",
        "+:-it reprensents one or more occurrence of a pattern in the str\n",
        "\n",
        "{}:-it used to find the repeation of str\n",
        "\n",
        "|:-it represent either this or that character is present"
      ],
      "metadata": {
        "id": "zpXzQ9Xqsu4L"
      }
    },
    {
      "cell_type": "code",
      "source": [
        "import re\n",
        "p=re.compile('\\d')\n",
        "print(p.findall(\"I went to him at 11 A.M. on 4th July 1886\"))\n",
        "p=re.compile('\\d+')\n",
        "print(p.findall(\"I went to him at 11 A.M. on 4th July 1886\"))"
      ],
      "metadata": {
        "colab": {
          "base_uri": "https://localhost:8080/"
        },
        "id": "vDNx6G-BvahK",
        "outputId": "344f146a-59cc-479a-d923-4e21fd44c8af"
      },
      "execution_count": null,
      "outputs": [
        {
          "output_type": "stream",
          "name": "stdout",
          "text": [
            "['1', '1', '4', '1', '8', '8', '6']\n",
            "['11', '4', '1886']\n"
          ]
        }
      ]
    },
    {
      "cell_type": "markdown",
      "source": [
        "**SPECIAL SEQUENCE**\n",
        "\n",
        "\\d:-it returns a match if the str contains digits[0-9]\n",
        "\n",
        "\\D:-it returns a match if the str\n",
        "\n",
        "\\w:-it returns a match if the str contains any word character\n",
        "\n",
        "\\Z:-returns a match if the specified characters are at the end of the str\n",
        "\n"
      ],
      "metadata": {
        "id": "9fHGG-hCyvhG"
      }
    },
    {
      "cell_type": "markdown",
      "source": [
        "**SETS**\n",
        "[arn]:- eturns a match if the str contains any of the specified char.\n",
        "\n",
        "[a-n]:-returns a match if the str contains any of the characters blw a to n.\n",
        "\n",
        "[^arn]:-returns a match if the str contains the char except a .r\n",
        "\n",
        "[0123]:-returns a match if the str contains any of the specified digits\n",
        "\n",
        "[0-9]:-returns a match if the str contains any of the digits blw 0 and 9\n",
        "\n",
        "[0-5][0-9]:-returns a match if the str contains any digits blw 00 & 59.\n"
      ],
      "metadata": {
        "id": "aSHjeTcz09BU"
      }
    },
    {
      "cell_type": "code",
      "source": [
        "import re\n",
        "p=re.compile('[a-e]')\n",
        "print(p.findall(\"Aye, said Mr. Gibenson Stark\"))\n",
        "p=re.compile('[a-z]')\n",
        "print(p.findall(\"Aye, said Mr. Gibenson Stark\"))\n",
        "p=re.compile('[A-Z]')\n",
        "print(p.findall(\"Aye, said Mr. Gibenson Stark\"))\n",
        "p=re.compile('[a-z A-Z]+')\n",
        "print(p.findall(\"Aye, said Mr. Gibenson Stark\"))\n",
        "p=re.compile('[^a-e]')\n",
        "print(p.findall(\"Aye, said Mr. Gibenson Stark\"))"
      ],
      "metadata": {
        "colab": {
          "base_uri": "https://localhost:8080/"
        },
        "id": "KYt2iluQ2fdm",
        "outputId": "c0c77a28-57b2-4236-87c8-8f5cafe40a48"
      },
      "execution_count": null,
      "outputs": [
        {
          "output_type": "stream",
          "name": "stdout",
          "text": [
            "['e', 'a', 'd', 'b', 'e', 'a']\n",
            "['y', 'e', 's', 'a', 'i', 'd', 'r', 'i', 'b', 'e', 'n', 's', 'o', 'n', 't', 'a', 'r', 'k']\n",
            "['A', 'M', 'G', 'S']\n",
            "['Aye', ' said Mr', ' Gibenson Stark']\n",
            "['A', 'y', ',', ' ', 's', 'i', ' ', 'M', 'r', '.', ' ', 'G', 'i', 'n', 's', 'o', 'n', ' ', 'S', 't', 'r', 'k']\n"
          ]
        }
      ]
    },
    {
      "cell_type": "code",
      "source": [
        "import re\n",
        "def findMonthAndDate(string):\n",
        "    regex=r\"([a-zA-Z]+) (\\d+)\"\n",
        "    match=re.match(regex,string)\n",
        "    if match == None:\n",
        "        print(\"Not a valid date\")\n",
        "        return\n",
        "    print(\"Given Data: %s\" % (match.group()))\n",
        "    print(\"Month: %s\" % (match.group(1)))\n",
        "    print(\"Day: %s\" % (match.group(2)))\n",
        "findMonthAndDate(\"Jun 24\")\n",
        "print(\"\")\n",
        "findMonthAndDate(\"I was born on June 24\")\n"
      ],
      "metadata": {
        "colab": {
          "base_uri": "https://localhost:8080/"
        },
        "id": "y3eARxRq-qIr",
        "outputId": "ac427f99-a9b1-4f54-d4b0-b15c7a5c7419"
      },
      "execution_count": null,
      "outputs": [
        {
          "output_type": "stream",
          "name": "stdout",
          "text": [
            "Given Data: Jun 24\n",
            "Month: Jun\n",
            "Day: 24\n",
            "\n",
            "Not a valid date\n"
          ]
        }
      ]
    },
    {
      "cell_type": "code",
      "source": [
        "import re\n",
        "def findMonthAndDate(string):\n",
        "    regex=r\"([a-zA-Z]+) (\\d+)\"\n",
        "    match=re.search(regex,string)\n",
        "    if match == None:\n",
        "        print(\"Not a valid date\")\n",
        "        return\n",
        "    print(f\"Given Data: {match.group()}\")\n",
        "    print(f\"Month: {match.group(1)}\")\n",
        "    print(f\"Day: {match.group(2)}\")\n",
        "findMonthAndDate(\"Jun 24\")\n",
        "print(\"\")\n",
        "findMonthAndDate(\"I was born on June 24\")"
      ],
      "metadata": {
        "colab": {
          "base_uri": "https://localhost:8080/"
        },
        "id": "uCTtc_0qERJe",
        "outputId": "4cdb81e9-8bf5-422d-e39c-d6068351a846"
      },
      "execution_count": null,
      "outputs": [
        {
          "output_type": "stream",
          "name": "stdout",
          "text": [
            "Given Data: Jun 24\n",
            "Month: Jun\n",
            "Day: 24\n",
            "\n",
            "Given Data: June 24\n",
            "Month: June\n",
            "Day: 24\n"
          ]
        }
      ]
    },
    {
      "cell_type": "code",
      "source": [
        "#using search:\n",
        "import re\n",
        "regex=r\"([a-zA-Z]+ )(\\d+)\"\n",
        "match=re.search(regex,\"I was born on June 24\")\n",
        "if match != None:\n",
        "    print(f\"Match at index {match.start()}:{match.end()}\")\n",
        "    print(f\"Full match: {match.group()}\")\n",
        "    print(f\"Month: {match.group(1)}\")\n",
        "    print(f\"Day: {match.group(2)}\")\n",
        "else:\n",
        "    print(\"The regex pattern does not match\")"
      ],
      "metadata": {
        "colab": {
          "base_uri": "https://localhost:8080/"
        },
        "id": "qKqwSJOQGKsI",
        "outputId": "06c5baeb-1134-4bb4-e554-6cf2ff2c3485"
      },
      "execution_count": null,
      "outputs": [
        {
          "output_type": "stream",
          "name": "stdout",
          "text": [
            "Match at index 14:21\n",
            "Full match: June 24\n",
            "Month: June \n",
            "Day: 24\n"
          ]
        }
      ]
    },
    {
      "cell_type": "code",
      "source": [
        "#split()\n",
        "import re\n",
        "greet=\"hello how are you\"\n",
        "result=re.split(\"\\s\",greet)\n",
        "print(result)\n",
        "\n",
        "greet=\"hello how are you\"\n",
        "result=re.split(\"\\s\",greet,1)\n",
        "print(result)\n",
        "\n",
        "greet=\"hello how are you\"\n",
        "result=re.split(\"\\s\",greet,2)\n",
        "print(result)"
      ],
      "metadata": {
        "colab": {
          "base_uri": "https://localhost:8080/"
        },
        "id": "ivdJEoIuhVAk",
        "outputId": "28a1cff5-da76-4b99-a7a7-df36162a923b"
      },
      "execution_count": 7,
      "outputs": [
        {
          "output_type": "stream",
          "name": "stdout",
          "text": [
            "['hello', 'how', 'are', 'you']\n",
            "['hello', 'how are you']\n",
            "['hello', 'how', 'are you']\n"
          ]
        }
      ]
    },
    {
      "cell_type": "code",
      "source": [
        "#sub() function: replaces the text\n",
        "import re\n",
        "greet=\"hello frnds how are you all\"\n",
        "result=re.sub(\"e\",\"2\",greet)\n",
        "print(result)\n",
        "\n",
        "greet=\"hello frnds how are you all\"\n",
        "result=re.sub(\"frnds\",\"kiets\",greet)\n",
        "print(result)\n"
      ],
      "metadata": {
        "colab": {
          "base_uri": "https://localhost:8080/"
        },
        "id": "5vfBcJgDkcsL",
        "outputId": "e0a48697-a576-4950-8aa3-139b8480f344"
      },
      "execution_count": 10,
      "outputs": [
        {
          "output_type": "stream",
          "name": "stdout",
          "text": [
            "h2llo frnds how ar2 you all\n",
            "hello kiets how are you all\n"
          ]
        }
      ]
    }
  ]
}