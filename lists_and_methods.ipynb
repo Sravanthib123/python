{
  "nbformat": 4,
  "nbformat_minor": 0,
  "metadata": {
    "colab": {
      "provenance": [],
      "authorship_tag": "ABX9TyP3YKTpxcKl60eYXK3xHxxw",
      "include_colab_link": true
    },
    "kernelspec": {
      "name": "python3",
      "display_name": "Python 3"
    },
    "language_info": {
      "name": "python"
    }
  },
  "cells": [
    {
      "cell_type": "markdown",
      "metadata": {
        "id": "view-in-github",
        "colab_type": "text"
      },
      "source": [
        "<a href=\"https://colab.research.google.com/github/Sravanthib123/python/blob/master/lists_and_methods.ipynb\" target=\"_parent\"><img src=\"https://colab.research.google.com/assets/colab-badge.svg\" alt=\"Open In Colab\"/></a>"
      ]
    },
    {
      "cell_type": "code",
      "execution_count": null,
      "metadata": {
        "colab": {
          "base_uri": "https://localhost:8080/"
        },
        "id": "dicJ_d7GZIVr",
        "outputId": "cef63164-5d5b-4f8a-d005-ba4e1797e87e"
      },
      "outputs": [
        {
          "output_type": "stream",
          "name": "stdout",
          "text": [
            "[10, 20, 30]\n",
            "<class 'list'>\n",
            "20\n",
            "[10, 60, 30]\n",
            "[20, 30]\n",
            "[10, 20, 30, [40, 50]]\n",
            "[10, 20, 30, [40, 50], 60, 70]\n",
            "[10, 15, 20, 30, [40, 50], 60, 70]\n",
            "[10, 15, 30, [40, 50], 60, 70]\n",
            "2\n",
            "1\n",
            "[10, 20]\n",
            "[]\n",
            "[30, 40, 60]\n",
            "[40, 30, 60]\n",
            "[40, 30, 60]\n"
          ]
        }
      ],
      "source": [
        "#list\n",
        "# ordered mutable (changeable) and allows duplicates. list is define using square brackets[]\n",
        "#indexing\n",
        "#LIST INDEXING you acess elements of alist using their position (index)\n",
        "#list\n",
        "list=[10,20,30]\n",
        "print(list)\n",
        "print(type(list))\n",
        "#indexing\n",
        "print(list[1])\n",
        "list[1]=60\n",
        "print(list)\n",
        "#list slicing in python is a way to extract a portion (sublist) from a list\n",
        "#syntax\n",
        "#list[start:stop:step]\n",
        "list=[10,20,30,40,50,60]\n",
        "print(list[1:3:1])\n",
        "\n",
        "##list methods\n",
        "list= [10,20,30]\n",
        "list.append([40,50])\n",
        "print(list)\n",
        "list.extend([60,70])\n",
        "print(list)\n",
        "list.insert(1,15)\n",
        "print(list)\n",
        "list.remove(20)\n",
        "print(list)\n",
        "list=[10,20,40]\n",
        "a=list.index(40)\n",
        "print(a)\n",
        "s=list.count(10)\n",
        "print(s)\n",
        "list.pop()\n",
        "print(list)\n",
        "list.clear()\n",
        "print(list)\n",
        "list=[60,30,40]\n",
        "list.sort()\n",
        "print(list)\n",
        "list=[60,30,40]\n",
        "list.reverse()\n",
        "print(list)\n",
        "list.copy()\n",
        "print(list)\n",
        "\n"
      ]
    },
    {
      "cell_type": "code",
      "source": [
        "#task-2\n",
        "a=[0,1,2,3,4,5,6,7,8,9]\n",
        "print(a[-7:-2:2])\n",
        "a=[1,2,3,4,5,6,7]\n",
        "print(a[5:1:-1])\n",
        "a=['a','b','c','d','e','f']\n",
        "print(a[::2][1:])\n",
        "a=[1,2,3,4,5]\n",
        "print(a[-100:3])\n",
        "print(a[::-2])\n",
        "\n"
      ],
      "metadata": {
        "colab": {
          "base_uri": "https://localhost:8080/"
        },
        "id": "a9Yp7dsTtD5B",
        "outputId": "2ac1aa9d-0389-4d33-8055-cd560fbb48be"
      },
      "execution_count": null,
      "outputs": [
        {
          "output_type": "stream",
          "name": "stdout",
          "text": [
            "[3, 5, 7]\n",
            "[6, 5, 4, 3]\n",
            "['c', 'e']\n",
            "[1, 2, 3]\n",
            "[5, 3, 1]\n"
          ]
        }
      ]
    },
    {
      "cell_type": "code",
      "source": [
        "#add elements to alist\n",
        "a=[\"apple\",\"grapes\",\"mango\"]\n",
        "s=a.append(\"banana\")\n",
        "print(a)"
      ],
      "metadata": {
        "colab": {
          "base_uri": "https://localhost:8080/"
        },
        "id": "PUim_zeVw2hU",
        "outputId": "5a1fd4ab-8057-4ad9-a23b-e4c75119a6fd"
      },
      "execution_count": null,
      "outputs": [
        {
          "output_type": "stream",
          "name": "stdout",
          "text": [
            "['apple', 'grapes', 'mango', 'banana']\n"
          ]
        }
      ]
    },
    {
      "cell_type": "code",
      "source": [
        "#add element at a specific position\n",
        "a=[\"apple\",\"grapes\",\"mango\"]\n",
        "s=a.insert(1,\"banana\")\n",
        "print(a)"
      ],
      "metadata": {
        "colab": {
          "base_uri": "https://localhost:8080/"
        },
        "id": "DIb3t3cDxKCv",
        "outputId": "3c895e63-63bb-4bdc-cf43-5c1686e34d25"
      },
      "execution_count": null,
      "outputs": [
        {
          "output_type": "stream",
          "name": "stdout",
          "text": [
            "['apple', 'banana', 'grapes', 'mango']\n"
          ]
        }
      ]
    },
    {
      "cell_type": "code",
      "source": [
        "#delete a specific element\n",
        "a=[\"apple\",\"grapes\",\"mango\"]\n",
        "s=a.remove(\"grapes\")\n",
        "print(a)"
      ],
      "metadata": {
        "colab": {
          "base_uri": "https://localhost:8080/"
        },
        "id": "DQiuOvVDxYL-",
        "outputId": "2e278f54-2d9b-4b0a-e562-270e33641421"
      },
      "execution_count": null,
      "outputs": [
        {
          "output_type": "stream",
          "name": "stdout",
          "text": [
            "['apple', 'mango']\n"
          ]
        }
      ]
    },
    {
      "cell_type": "code",
      "source": [
        "#remove and reverse an element\n",
        "a=[\"apple\",\"grapes\",\"mango\"]\n",
        "s=a.pop(1)\n",
        "print(a)\n",
        "s=a.reverse()\n",
        "print(a)"
      ],
      "metadata": {
        "colab": {
          "base_uri": "https://localhost:8080/"
        },
        "id": "VFSdYQXMxiTC",
        "outputId": "3415d55c-35e5-4acd-d009-b40920fe8ad7"
      },
      "execution_count": null,
      "outputs": [
        {
          "output_type": "stream",
          "name": "stdout",
          "text": [
            "['apple', 'mango']\n",
            "['mango', 'apple']\n"
          ]
        }
      ]
    },
    {
      "cell_type": "code",
      "source": [
        "#sort elements in ascending order\n",
        "a=[1,2,3,4,5]\n",
        "s=a.sort()\n",
        "print(a)"
      ],
      "metadata": {
        "colab": {
          "base_uri": "https://localhost:8080/"
        },
        "id": "kBsk2sVzx0bv",
        "outputId": "60bb3c72-680f-4afa-f651-89c17a1f3478"
      },
      "execution_count": null,
      "outputs": [
        {
          "output_type": "stream",
          "name": "stdout",
          "text": [
            "[1, 2, 3, 4, 5]\n"
          ]
        }
      ]
    },
    {
      "cell_type": "code",
      "source": [
        "#separate even and odd numbers\n",
        "a=[1,2,3,4,5,6,7,8,9]\n",
        "even_numbers = []\n",
        "odd_numbers = []\n",
        "for number in a:\n",
        "  if number % 2 == 0:\n",
        "    even_numbers.append(number)\n",
        "  else:\n",
        "    odd_numbers.append(number)\n",
        "print(\"Even numbers:\", even_numbers)\n",
        "print(\"Odd numbers:\", odd_numbers)"
      ],
      "metadata": {
        "colab": {
          "base_uri": "https://localhost:8080/"
        },
        "id": "rxhH6iqWx8gs",
        "outputId": "727f01d5-eff3-40e6-888a-034885c9dcef"
      },
      "execution_count": null,
      "outputs": [
        {
          "output_type": "stream",
          "name": "stdout",
          "text": [
            "Even numbers: [2, 4, 6, 8]\n",
            "Odd numbers: [1, 3, 5, 7, 9]\n"
          ]
        }
      ]
    },
    {
      "cell_type": "code",
      "source": [
        "#check password is present in list or not\n"
      ],
      "metadata": {
        "id": "oqdOMc3ZyiuS"
      },
      "execution_count": null,
      "outputs": []
    },
    {
      "cell_type": "code",
      "metadata": {
        "colab": {
          "base_uri": "https://localhost:8080/"
        },
        "id": "52ab2fd4",
        "outputId": "8ff230f5-ec14-401e-fb3d-e24b68b851c7"
      },
      "source": [
        "passwords = [\"123\", \"secure\", \"mysecret\"]\n",
        "user_input = \"secure\"\n",
        "\n",
        "if user_input in passwords:\n",
        "  print(\"Password is in the list.\")\n",
        "else:\n",
        "  print(\"Password is not in the list.\")"
      ],
      "execution_count": null,
      "outputs": [
        {
          "output_type": "stream",
          "name": "stdout",
          "text": [
            "Password is in the list.\n"
          ]
        }
      ]
    },
    {
      "cell_type": "code",
      "source": [
        "#sum of tuple\n",
        "n=(1,2,3,4,5)\n",
        "print(sum(n))"
      ],
      "metadata": {
        "colab": {
          "base_uri": "https://localhost:8080/"
        },
        "id": "bvw0yfFMugOY",
        "outputId": "0df2de35-fc60-49ed-98b9-64ad5e88abe1"
      },
      "execution_count": null,
      "outputs": [
        {
          "output_type": "stream",
          "name": "stdout",
          "text": [
            "15\n"
          ]
        }
      ]
    },
    {
      "cell_type": "code",
      "source": [
        "#convert binary tuple to integers\n"
      ],
      "metadata": {
        "id": "l37eiRrUvPhc"
      },
      "execution_count": null,
      "outputs": []
    },
    {
      "cell_type": "code",
      "metadata": {
        "colab": {
          "base_uri": "https://localhost:8080/"
        },
        "id": "9bac2866",
        "outputId": "b837c178-5065-4e5f-989c-c6d23451b242"
      },
      "source": [
        "# convert binary tuple to integers\n",
        "binary_tuple = ('101', '1101', '111')\n",
        "integer_tuple = tuple(int(binary, 2) for binary in binary_tuple)\n",
        "print(integer_tuple)"
      ],
      "execution_count": null,
      "outputs": [
        {
          "output_type": "stream",
          "name": "stdout",
          "text": [
            "(5, 13, 7)\n"
          ]
        }
      ]
    },
    {
      "cell_type": "code",
      "metadata": {
        "id": "c980c52e"
      },
      "source": [
        "# Get integer input from the user and store it in a list\n",
        "n = list(map(int, input().split()))\n",
        "\n",
        "# Convert the list of integers to a tuple\n",
        "integer_tuple = tuple(n)\n",
        "\n",
        "# Print the resulting tuple\n",
        "print(integer_tuple)"
      ],
      "execution_count": null,
      "outputs": []
    },
    {
      "cell_type": "code",
      "metadata": {
        "id": "16699c34"
      },
      "source": [
        "n_str = input().split()\n",
        "integer_tuple = tuple(map(int, n_str))\n",
        "binary_string = ''.join(n_str)\n",
        "decimal_integer = int(binary_string, 2)\n",
        "print(decimal_integer)\n",
        "print(integer_tuple)"
      ],
      "execution_count": null,
      "outputs": []
    },
    {
      "cell_type": "code",
      "metadata": {
        "id": "3f352358"
      },
      "source": [
        "n_str = input().split()\n",
        "integer_tuple = tuple(map(int, n_str))\n",
        "binary_string = ''.join(n_str)\n",
        "decimal_integer = int(binary_string, 2)\n",
        "print(decimal_integer)"
      ],
      "execution_count": null,
      "outputs": []
    },
    {
      "cell_type": "code",
      "source": [
        "#sum of list elements\n",
        "n=[3,5,2,8]\n",
        "s=sum(n)\n",
        "print(s)"
      ],
      "metadata": {
        "id": "7C-8B3V_-D7Q"
      },
      "execution_count": null,
      "outputs": []
    },
    {
      "cell_type": "code",
      "source": [
        "n = list(map(int,input().split()))\n",
        "print(n[0],n[-1])"
      ],
      "metadata": {
        "id": "_ssTfR11-4QJ"
      },
      "execution_count": null,
      "outputs": []
    },
    {
      "cell_type": "code",
      "source": [
        "list=[1,2,3,4,5]\n",
        "print(tuple(list))\n"
      ],
      "metadata": {
        "id": "Ou2CgrQK_ldZ"
      },
      "execution_count": null,
      "outputs": []
    },
    {
      "cell_type": "code",
      "source": [
        "n=(4,7,1,9,3)\n",
        "print(max(n),min(n))\n",
        "#second\n",
        "a=sorted(n)\n",
        "print(a)\n",
        "print(a[0],a[-1])\n",
        "#3rd\n",
        "a=[10,20,30,40,50,60]\n",
        "print(a[0],a[-1])"
      ],
      "metadata": {
        "id": "A9JLDfXvAMAm"
      },
      "execution_count": null,
      "outputs": []
    }
  ]
}