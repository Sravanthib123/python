{
  "nbformat": 4,
  "nbformat_minor": 0,
  "metadata": {
    "colab": {
      "provenance": [],
      "authorship_tag": "ABX9TyNOac7eXfTfeOMU7FvlEfK7",
      "include_colab_link": true
    },
    "kernelspec": {
      "name": "python3",
      "display_name": "Python 3"
    },
    "language_info": {
      "name": "python"
    }
  },
  "cells": [
    {
      "cell_type": "markdown",
      "metadata": {
        "id": "view-in-github",
        "colab_type": "text"
      },
      "source": [
        "<a href=\"https://colab.research.google.com/github/Sravanthib123/python/blob/master/access_modules.ipynb\" target=\"_parent\"><img src=\"https://colab.research.google.com/assets/colab-badge.svg\" alt=\"Open In Colab\"/></a>"
      ]
    },
    {
      "cell_type": "code",
      "execution_count": 1,
      "metadata": {
        "colab": {
          "base_uri": "https://localhost:8080/"
        },
        "id": "PH1TYLWetKxo",
        "outputId": "a7be6c74-05ea-43a1-b3ca-8c5fe0cd531b"
      },
      "outputs": [
        {
          "output_type": "stream",
          "name": "stdout",
          "text": [
            "sravs\n",
            "sravs\n",
            "sravs\n"
          ]
        }
      ],
      "source": [
        "#Access modulus in Oops:\n",
        " #public\n",
        "class student:\n",
        "  def __init__(self):\n",
        "    self.name=\"sravs\"\n",
        "obj=student()\n",
        "print(obj.name)\n",
        "#private\n",
        "class student:\n",
        "  def __init__(self):\n",
        "    self.__name=\"sravs\"\n",
        "obj=student()\n",
        "print(obj._student__name)\n",
        "#protect\n",
        "class student:\n",
        "  def __init__(self):\n",
        "    self._name=\"sravs\"\n",
        "obj=student()\n",
        "print(obj._name)"
      ]
    },
    {
      "cell_type": "code",
      "source": [
        "class employee:\n",
        "  def __init__(self,emp_id,name,salary,department):\n",
        "    self.emp_id=emp_id\n",
        "    self._department=department\n",
        "    self.__salary=salary\n",
        "    self.__name=name\n",
        "  def set_salary(self,new_salary):\n",
        "    if new_salary>0:\n",
        "      self.__salary=new_salary\n",
        "    else:\n",
        "      print(\"invalid salary\")\n",
        "  def get_salary(self):\n",
        "    return self.__salary\n",
        "  def set_name(self,new_name):\n",
        "    if new_name.strip() != \"\":\n",
        "        self.__name= new_name\n",
        "    else:\n",
        "      print(\"invalid name\")\n",
        "  def get_name(self):\n",
        "    return self.__name\n",
        "  def set_department(self,new_department):\n",
        "    if new_department.strip() != \"\":\n",
        "        self._department= new_department\n",
        "    else:\n",
        "      print(\"invalid department\")\n",
        "  def get_department(self):\n",
        "    return self._department\n",
        "\n",
        "  def display_employee(self):\n",
        "    print(\"\\nemployee details\")\n",
        "    print(f\"employee id         :{self.emp_id}\")\n",
        "    print(f\"employee name       :{self.__name}\")\n",
        "    print(f\"employee salary     :{self.__salary}\")\n",
        "    print(f\"employee department :{self._department}\")\n",
        "emp1=employee(101,\"sravanthi\",60000,\"AI research\")\n",
        "print(\"public id\",emp1.emp_id)\n",
        "print(\"private salary\",emp1.get_salary())\n",
        "print(\"private name\",emp1.get_name())\n",
        "print(\"protected department\",emp1.get_department())\n",
        "emp1.set_name(\"sravanthi bhavanam\")\n",
        "emp1.set_salary(70000)\n",
        "emp1.set_department(\"AI developer\")\n",
        "emp1.display_employee()\n",
        "\n",
        "\n",
        "\n",
        "\n"
      ],
      "metadata": {
        "colab": {
          "base_uri": "https://localhost:8080/"
        },
        "id": "72Xl7Hb9zOwd",
        "outputId": "65a52212-abba-41de-e5a3-faf431c272e3"
      },
      "execution_count": 9,
      "outputs": [
        {
          "output_type": "stream",
          "name": "stdout",
          "text": [
            "public id 101\n",
            "private salary 60000\n",
            "private name sravanthi\n",
            "protected department AI research\n",
            "\n",
            "employee details\n",
            "employee id         :101\n",
            "employee name       :sravanthi bhavanam\n",
            "employee salary     :70000\n",
            "employee department :AI developer\n"
          ]
        }
      ]
    }
  ]
}